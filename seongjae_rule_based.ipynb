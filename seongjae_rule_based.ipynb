{
 "cells": [
  {
   "cell_type": "code",
   "execution_count": 1,
   "metadata": {},
   "outputs": [],
   "source": [
    "import pandas as pd"
   ]
  },
  {
   "cell_type": "code",
   "execution_count": 2,
   "metadata": {},
   "outputs": [],
   "source": [
    "#변형할 파일 submission으로 읽어오기\n",
    "submission = pd.read_csv('./data/sample_submission.csv')\n",
    "# submission = pd.read_csv('./submit/넣을파일.csv')\n",
    "\n",
    "#isbn cold start\n",
    "train = pd.read_csv('./data/train_ratings.csv')                 #train 값 불러오고\n",
    "\n",
    "count=train.groupby(\"isbn\").size()                              #isbn별로 묶어서 count\n",
    "dfcount = pd.DataFrame(count, columns=[\"count_b\"])\n",
    "train=pd.merge(train,dfcount, how='left', on='isbn')            \n",
    "\n",
    "submission=pd.merge(submission,dfcount, how='left', on='isbn')  #submission 에 count 생성\n",
    "submission['count_b'] = submission['count_b'].fillna(0)\n",
    "\n",
    "\n",
    "submission.set_index(\"isbn\",inplace = True)                                \n",
    "for row in submission.itertuples():\n",
    "    if row[3] == 0 :                                            #book count가 되지 않은 곳에\n",
    "        submission.at[row[0],\"rating\"] = 6.884027966331795      #1개 매겨진 isbn 의 평균 대입\n",
    "submission = submission.reset_index()\n",
    "\n",
    "#user_id cold start\n",
    "train = pd.read_csv('./data/train_ratings.csv')\n",
    "\n",
    "count=train.groupby(\"user_id\").size()\n",
    "dfcount = pd.DataFrame(count, columns=[\"count_u\"])\n",
    "train=pd.merge(train,dfcount, how='left', on='user_id')\n",
    "\n",
    "submission=pd.merge(submission,dfcount, how='left', on='user_id')\n",
    "submission['count_u'] = submission['count_u'].fillna(0)\n",
    "\n",
    "submission.set_index(\"user_id\",inplace = True)                              \n",
    "for row in submission.itertuples():\n",
    "    if row[4] == 0 :                                                       \n",
    "        submission.at[row[0],\"rating\"] = 7                       #1명 rating 들의 평균대입\n",
    "submission = submission.reset_index()\n",
    "\n",
    "\n",
    "# #count_b, count_u 콜럼 제거\n",
    "# submission = submission.drop(['count_b'], axis=1)\n",
    "# submission = submission.drop(['count_u'], axis=1)"
   ]
  },
  {
   "cell_type": "code",
   "execution_count": 3,
   "metadata": {},
   "outputs": [
    {
     "name": "stdout",
     "output_type": "stream",
     "text": [
      "       user_id        isbn  rating  count_b  count_u\n",
      "929        176  1900850303     7.0      0.0      0.0\n",
      "953        190  0002740230     7.0      0.0      0.0\n",
      "3491       278  0590431110     7.0      0.0      0.0\n",
      "5123       530  0516076272     7.0      0.0      0.0\n",
      "5998       705  8806142267     7.0      0.0      0.0\n",
      "...        ...         ...     ...      ...      ...\n",
      "76612   275828  0802138748     7.0      0.0      0.0\n",
      "76623   276067  0694004162     7.0      0.0      0.0\n",
      "76655   277079  3499263998     7.0      0.0      0.0\n",
      "76669   277514  3453042476     7.0      0.0      0.0\n",
      "76679   278012  0140134212     7.0      0.0      0.0\n",
      "\n",
      "[1734 rows x 5 columns]\n"
     ]
    }
   ],
   "source": [
    "count_u = submission['count_u'] ==0 \n",
    "count_b = submission['count_b'] ==0\n",
    "user_cold = submission[count_u]\n",
    "book_cold = submission[count_b]\n",
    "both_cold= submission[count_b & count_u]\n",
    "count_b1 = submission['count_b'] != 0\n",
    "count_u1 = submission['count_u'] != 0\n",
    "to_train = submission[count_b1 & count_u1]\n",
    "\n",
    "ori = submission.copy()\n",
    "submission[count_b & count_u]\n",
    "print(submission[count_b & count_u])"
   ]
  },
  {
   "cell_type": "code",
   "execution_count": 4,
   "metadata": {},
   "outputs": [
    {
     "data": {
      "text/plain": [
       "929      7.0\n",
       "953      7.0\n",
       "3491     7.0\n",
       "5123     7.0\n",
       "5998     7.0\n",
       "        ... \n",
       "76612    7.0\n",
       "76623    7.0\n",
       "76655    7.0\n",
       "76669    7.0\n",
       "76679    7.0\n",
       "Name: rating, Length: 1734, dtype: float64"
      ]
     },
     "execution_count": 4,
     "metadata": {},
     "output_type": "execute_result"
    }
   ],
   "source": [
    "ori[count_b & count_u]['rating'] "
   ]
  },
  {
   "cell_type": "markdown",
   "metadata": {},
   "source": [
    "ori.loc[count_b & count_u,'rating'] = tmp['rating']\n",
    "\n",
    "\n",
    "\n",
    "#위 처럼 해당하는 데이터의 값을 할당 시킬 수 있다~~!!!!!!\n"
   ]
  },
  {
   "cell_type": "code",
   "execution_count": 5,
   "metadata": {},
   "outputs": [],
   "source": [
    "##############to train 파일은 fm 돌리고 나머지 값들은 인덱싱하자"
   ]
  },
  {
   "cell_type": "code",
   "execution_count": 6,
   "metadata": {},
   "outputs": [],
   "source": [
    "####### user_cold <- item 있는 거에서 레이팅 평균\n",
    "####### isbn_cold <- user 있는 거에서 레이팅 평균\n",
    "####### 둘다 콜드 <- 전체 평균\n",
    "####### cold start  아닌거 -> fm emb dim 2로 넣어주고 학습시킨거에서 predict"
   ]
  },
  {
   "cell_type": "code",
   "execution_count": 7,
   "metadata": {},
   "outputs": [
    {
     "name": "stdout",
     "output_type": "stream",
     "text": [
      "7.069714304340032\n",
      "306795\n"
     ]
    }
   ],
   "source": [
    "train = pd.read_csv('./data/train_ratings.csv')\n",
    "#submission.loc[count_b & count_u,'rating'] = tmp['rating']\n",
    "print(train['rating'].mean())\n",
    "print(len(train))\n"
   ]
  },
  {
   "cell_type": "code",
   "execution_count": 8,
   "metadata": {},
   "outputs": [
    {
     "name": "stdout",
     "output_type": "stream",
     "text": [
      "7.1756075395674\n"
     ]
    }
   ],
   "source": [
    "#book 콜드인 거에서 userid 있는 거의 평균으로 할당\n",
    "tmp = train[train['user_id'].isin(book_cold['user_id'])]\n",
    "print(tmp['rating'].mean())\n",
    "#더했어야함\n",
    "print(tmp)\n",
    "book_cold_userid_mean = tmp['rating'].mean()"
   ]
  },
  {
   "cell_type": "code",
   "execution_count": 9,
   "metadata": {},
   "outputs": [
    {
     "name": "stdout",
     "output_type": "stream",
     "text": [
      "7.233799037019496\n"
     ]
    }
   ],
   "source": [
    "#user 콜드인 거에서 isbn 있는 거의 평균으로 할당\n",
    "tmp = train[train['isbn'].isin(user_cold['isbn'])]\n",
    "print(tmp['rating'].mean())\n",
    "user_cold_isbn_mean = tmp['rating'].mean()"
   ]
  },
  {
   "cell_type": "code",
   "execution_count": 10,
   "metadata": {},
   "outputs": [
    {
     "name": "stdout",
     "output_type": "stream",
     "text": [
      "Empty DataFrame\n",
      "Columns: [user_id, isbn, rating]\n",
      "Index: []\n",
      "7.204703288293448\n"
     ]
    }
   ],
   "source": [
    "#user 콜드인 거에서 isbn 있는 거의 평균으로 할당\n",
    "tmp = train[train['isbn'].isin(both_cold['isbn'])]\n",
    "print(tmp)\n",
    "both_cold_mean = (user_cold_isbn_mean + book_cold_userid_mean)/2\n",
    "print(both_cold_mean)"
   ]
  },
  {
   "cell_type": "code",
   "execution_count": 11,
   "metadata": {},
   "outputs": [],
   "source": [
    "#bookcold = count_b\n",
    "#usercold = count_u\n",
    "#both = count_b & count_u\n",
    "submission.loc[count_u,'rating'] = user_cold_isbn_mean\n",
    "#submission.loc[count_b,'rating'] = book_cold_userid_mean\n",
    "submission.loc[count_b,'rating'] = 6.884027966331795##1개 매겨진 isbn 의 평균 대입\n",
    "submission.loc[count_b & count_u,'rating'] = both_cold_mean\n",
    "\n",
    "cold_submission = submission.copy()\n"
   ]
  },
  {
   "cell_type": "code",
   "execution_count": 12,
   "metadata": {},
   "outputs": [
    {
     "name": "stdout",
     "output_type": "stream",
     "text": [
      "       user_id        isbn    rating\n",
      "0        11676  0002005018  7.794324\n",
      "1       116866  0002005018  9.128166\n",
      "2       152827  0060973129  6.445954\n",
      "3       157969  0374157065  7.350306\n",
      "4        67958  0399135782  8.862909\n",
      "...        ...         ...       ...\n",
      "76694   278543  1576734218  7.175608\n",
      "76695   278563  3492223710  7.175608\n",
      "76696   278633  1896095186  7.175608\n",
      "76697   278668  8408044079  7.175608\n",
      "76698   278851  0767907566  7.175608\n",
      "\n",
      "[76699 rows x 3 columns]\n"
     ]
    }
   ],
   "source": [
    "#target = pd.read_csv('./submit/DeepCoNN_52_2.csv')\n",
    "#target = pd.read_csv('./submit/rule_based_1user.csv')\n",
    "target = pd.read_csv('./submit/FM_dim2_local_2.4013.csv')\n",
    "submission['rating'] = target['rating']\n",
    "submission.loc[count_u,'rating'] = user_cold_isbn_mean\n",
    "submission.loc[count_b,'rating'] = book_cold_userid_mean\n",
    "submission.loc[count_b & count_u,'rating'] = both_cold_mean\n",
    "submission = submission.drop(['count_b'], axis=1)\n",
    "submission = submission.drop(['count_u'], axis=1)\n",
    "\n",
    "print(submission)\n"
   ]
  },
  {
   "cell_type": "code",
   "execution_count": 13,
   "metadata": {},
   "outputs": [],
   "source": [
    "\n",
    "#submission.to_csv('sj_rulebase_NCF.csv', index=False)\n",
    "#submission.to_csv('sj_rulebase_1user.csv', index=False)\n",
    "submission.to_csv('sj_rulebase_FM_2dim_ver2.csv', index=False)"
   ]
  }
 ],
 "metadata": {
  "kernelspec": {
   "display_name": "Python 3.8.5 ('base')",
   "language": "python",
   "name": "python3"
  },
  "language_info": {
   "codemirror_mode": {
    "name": "ipython",
    "version": 3
   },
   "file_extension": ".py",
   "mimetype": "text/x-python",
   "name": "python",
   "nbconvert_exporter": "python",
   "pygments_lexer": "ipython3",
   "version": "3.8.5"
  },
  "orig_nbformat": 4,
  "vscode": {
   "interpreter": {
    "hash": "d4d1e4263499bec80672ea0156c357c1ee493ec2b1c70f0acce89fc37c4a6abe"
   }
  }
 },
 "nbformat": 4,
 "nbformat_minor": 2
}
