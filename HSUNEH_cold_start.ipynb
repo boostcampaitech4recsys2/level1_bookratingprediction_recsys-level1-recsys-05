{
 "cells": [
  {
   "cell_type": "code",
   "execution_count": null,
   "metadata": {},
   "outputs": [],
   "source": [
    "#변형할 파일 submission으로 읽어오기\n",
    "submission = pd.read_csv('./data/sample_submission.csv')\n",
    "# submission = pd.read_csv('./submit/넣을파일.csv')\n",
    "\n",
    "#isbn cold start\n",
    "train = pd.read_csv('./data/train_ratings.csv')                 #train 값 불러오고\n",
    "\n",
    "count=train.groupby(\"isbn\").size()                              #isbn별로 묶어서 count\n",
    "dfcount = pd.DataFrame(count, columns=[\"count_b\"])\n",
    "train=pd.merge(train,dfcount, how='left', on='isbn')            \n",
    "\n",
    "submission=pd.merge(submission,dfcount, how='left', on='isbn')  #submission 에 count 생성\n",
    "submission['count_b'] = submission['count_b'].fillna(0)\n",
    "\n",
    "\n",
    "submission.set_index(\"isbn\",inplace = True)                                \n",
    "for row in submission.itertuples():\n",
    "    if row[3] == 0 :                                            #book count가 되지 않은 곳에\n",
    "        submission.at[row[0],\"rating\"] = 6.884027966331795      #1개 매겨진 isbn 의 평균 대입\n",
    "submission = submission.reset_index()\n",
    "\n",
    "#user_id cold start\n",
    "train = pd.read_csv('./data/train_ratings.csv')\n",
    "\n",
    "count=train.groupby(\"user_id\").size()\n",
    "dfcount = pd.DataFrame(count, columns=[\"count_u\"])\n",
    "train=pd.merge(train,dfcount, how='left', on='user_id')\n",
    "\n",
    "submission=pd.merge(submission,dfcount, how='left', on='user_id')\n",
    "submission['count_u'] = submission['count_u'].fillna(0)\n",
    "\n",
    "submission.set_index(\"user_id\",inplace = True)                              \n",
    "for row in submission.itertuples():\n",
    "    if row[4] == 0 :                                                       \n",
    "        submission.at[row[0],\"rating\"] = 7                       #1명 rating 들의 평균대입\n",
    "submission = submission.reset_index()\n",
    "\n",
    "\n",
    "# #count_b, count_u 콜럼 제거\n",
    "# submission = submission.drop(['count_b'], axis=1)\n",
    "# submission = submission.drop(['count_u'], axis=1)"
   ]
  }
 ],
 "metadata": {
  "language_info": {
   "name": "python"
  },
  "orig_nbformat": 4
 },
 "nbformat": 4,
 "nbformat_minor": 2
}
