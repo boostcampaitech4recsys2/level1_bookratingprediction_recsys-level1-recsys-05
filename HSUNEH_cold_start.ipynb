{
 "cells": [
  {
   "cell_type": "code",
   "execution_count": 2,
   "metadata": {},
   "outputs": [],
   "source": [
    "import pandas as pd"
   ]
  },
  {
   "cell_type": "code",
   "execution_count": 4,
   "metadata": {},
   "outputs": [],
   "source": [
    "#변형할 파일 submission으로 읽어오기\n",
    "submission = pd.read_csv('./data/sample_submission.csv')\n",
    "# submission = pd.read_csv('./submit/넣을파일.csv')\n",
    "\n",
    "#isbn cold start\n",
    "train = pd.read_csv('./data/train_ratings.csv')                 #train 값 불러오고\n",
    "\n",
    "count=train.groupby(\"isbn\").size()                              #isbn별로 묶어서 count\n",
    "dfcount = pd.DataFrame(count, columns=[\"count_b\"])\n",
    "train=pd.merge(train,dfcount, how='left', on='isbn')            \n",
    "\n",
    "submission=pd.merge(submission,dfcount, how='left', on='isbn')  #submission 에 count 생성\n",
    "submission['count_b'] = submission['count_b'].fillna(0)\n",
    "\n",
    "\n",
    "submission.set_index(\"isbn\",inplace = True)                                \n",
    "for row in submission.itertuples():\n",
    "    if row[3] == 0 :                                            #book count가 되지 않은 곳에\n",
    "        submission.at[row[0],\"rating\"] = 6.884027966331795      #1개 매겨진 isbn 의 평균 대입\n",
    "submission = submission.reset_index()\n",
    "\n",
    "#user_id cold start\n",
    "train = pd.read_csv('./data/train_ratings.csv')\n",
    "\n",
    "count=train.groupby(\"user_id\").size()\n",
    "dfcount = pd.DataFrame(count, columns=[\"count_u\"])\n",
    "train=pd.merge(train,dfcount, how='left', on='user_id')\n",
    "\n",
    "submission=pd.merge(submission,dfcount, how='left', on='user_id')\n",
    "submission['count_u'] = submission['count_u'].fillna(0)\n",
    "\n",
    "submission.set_index(\"user_id\",inplace = True)                              \n",
    "for row in submission.itertuples():\n",
    "    if row[4] == 0 :                                                       \n",
    "        submission.at[row[0],\"rating\"] = 7                       #1명 rating 들의 평균대입\n",
    "submission = submission.reset_index()\n",
    "\n",
    "\n",
    "# #count_b, count_u 콜럼 제거\n",
    "# submission = submission.drop(['count_b'], axis=1)\n",
    "# submission = submission.drop(['count_u'], axis=1)"
   ]
  },
  {
   "cell_type": "code",
   "execution_count": 8,
   "metadata": {},
   "outputs": [
    {
     "data": {
      "text/plain": [
       "0.0      8677\n",
       "1.0      3860\n",
       "2.0      3070\n",
       "3.0      2480\n",
       "4.0      2219\n",
       "         ... \n",
       "165.0      37\n",
       "155.0      36\n",
       "151.0      30\n",
       "131.0      29\n",
       "89.0       20\n",
       "Name: count_u, Length: 247, dtype: int64"
      ]
     },
     "execution_count": 8,
     "metadata": {},
     "output_type": "execute_result"
    }
   ],
   "source": [
    "submission['count_u'].value_counts(sort= True)"
   ]
  },
  {
   "cell_type": "code",
   "execution_count": 34,
   "metadata": {},
   "outputs": [
    {
     "data": {
      "text/plain": [
       "19793"
      ]
     },
     "execution_count": 34,
     "metadata": {},
     "output_type": "execute_result"
    }
   ],
   "source": [
    "user_cold = submission[submission['count_u'] ==0]\n",
    "book_cold = submission[submission['count_b'] ==0]\n",
    "len(book_cold)"
   ]
  },
  {
   "cell_type": "code",
   "execution_count": 27,
   "metadata": {},
   "outputs": [
    {
     "data": {
      "text/plain": [
       "1734"
      ]
     },
     "execution_count": 27,
     "metadata": {},
     "output_type": "execute_result"
    }
   ],
   "source": [
    "both_cold= book_cold[book_cold['count_u'].isin(user_cold['count_u'])]\n",
    "len(both_cold)"
   ]
  },
  {
   "cell_type": "code",
   "execution_count": 29,
   "metadata": {},
   "outputs": [
    {
     "name": "stdout",
     "output_type": "stream",
     "text": [
      "both test dataset size :  1734\n",
      "cold start user size:  8677\n",
      "cold start book size:  19793\n"
     ]
    }
   ],
   "source": [
    "print(\"both test dataset size : \", len(both_cold))\n",
    "print(\"cold start user size: \", len(user_cold))\n",
    "print(\"cold start book size: \", len(book_cold))\n"
   ]
  },
  {
   "cell_type": "code",
   "execution_count": 35,
   "metadata": {},
   "outputs": [
    {
     "data": {
      "text/plain": [
       "0        False\n",
       "1        False\n",
       "2        False\n",
       "3        False\n",
       "4        False\n",
       "         ...  \n",
       "76694    False\n",
       "76695    False\n",
       "76696    False\n",
       "76697    False\n",
       "76698    False\n",
       "Name: count_u, Length: 76699, dtype: bool"
      ]
     },
     "execution_count": 35,
     "metadata": {},
     "output_type": "execute_result"
    }
   ],
   "source": [
    "submission[submission['count_u'] ==0]\n",
    "submission['count_u'] ==0\n",
    "submission['count_b'] ==0"
   ]
  }
 ],
 "metadata": {
  "kernelspec": {
   "display_name": "Python 3.8.5 ('base')",
   "language": "python",
   "name": "python3"
  },
  "language_info": {
   "codemirror_mode": {
    "name": "ipython",
    "version": 3
   },
   "file_extension": ".py",
   "mimetype": "text/x-python",
   "name": "python",
   "nbconvert_exporter": "python",
   "pygments_lexer": "ipython3",
   "version": "3.8.5"
  },
  "orig_nbformat": 4,
  "vscode": {
   "interpreter": {
    "hash": "d4d1e4263499bec80672ea0156c357c1ee493ec2b1c70f0acce89fc37c4a6abe"
   }
  }
 },
 "nbformat": 4,
 "nbformat_minor": 2
}
