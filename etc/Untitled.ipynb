{
 "cells": [
  {
   "cell_type": "code",
   "execution_count": 99,
   "id": "e2de6397-a243-4616-be00-67494d4368f8",
   "metadata": {},
   "outputs": [],
   "source": [
    "import pandas as pd\n",
    "import numpy as np\n",
    "import seaborn as sns\n",
    "import matplotlib.pyplot as plt\n",
    "\n",
    "import torch\n",
    "import torch.nn as nn\n",
    "import torch.nn.functional as F\n",
    "from torch.utils.data import TensorDataset, DataLoader, Dataset\n",
    "from torch.autograd import Variable\n",
    "import math\n",
    "import tqdm\n",
    "import pdb\n",
    "from scipy.sparse import csr_matrix, linalg\n",
    "from sklearn.model_selection import train_test_split\n",
    "from sklearn.metrics import mean_squared_error\n",
    "import warnings\n",
    "\n",
    "warnings.filterwarnings(action='ignore')\n"
   ]
  },
  {
   "cell_type": "code",
   "execution_count": 100,
   "id": "e28f6e60-cb89-4887-915f-9ae3d497ac5b",
   "metadata": {},
   "outputs": [],
   "source": [
    "books = pd.read_csv(\"../data/books.csv\")\n",
    "train = pd.read_csv(\"../data/train_ratings.csv\")\n",
    "test = pd.read_csv(\"../data/test_ratings.csv\")\n",
    "users = pd.read_csv(\"../data/users.csv\")\n",
    "sub = pd.read_csv(\"../data/sample_submission.csv\")\n",
    "total = pd.read_csv(\"../data/total_ratings.csv\")"
   ]
  },
  {
   "cell_type": "code",
   "execution_count": 101,
   "id": "7c5f48ac-803e-48bf-b7aa-b7df3332003e",
   "metadata": {},
   "outputs": [
    {
     "data": {
      "text/html": [
       "<div>\n",
       "<style scoped>\n",
       "    .dataframe tbody tr th:only-of-type {\n",
       "        vertical-align: middle;\n",
       "    }\n",
       "\n",
       "    .dataframe tbody tr th {\n",
       "        vertical-align: top;\n",
       "    }\n",
       "\n",
       "    .dataframe thead th {\n",
       "        text-align: right;\n",
       "    }\n",
       "</style>\n",
       "<table border=\"1\" class=\"dataframe\">\n",
       "  <thead>\n",
       "    <tr style=\"text-align: right;\">\n",
       "      <th></th>\n",
       "      <th>user_id</th>\n",
       "      <th>isbn</th>\n",
       "      <th>rating</th>\n",
       "    </tr>\n",
       "  </thead>\n",
       "  <tbody>\n",
       "    <tr>\n",
       "      <th>0</th>\n",
       "      <td>8</td>\n",
       "      <td>0002005018</td>\n",
       "      <td>4</td>\n",
       "    </tr>\n",
       "    <tr>\n",
       "      <th>1</th>\n",
       "      <td>67544</td>\n",
       "      <td>0002005018</td>\n",
       "      <td>7</td>\n",
       "    </tr>\n",
       "    <tr>\n",
       "      <th>2</th>\n",
       "      <td>123629</td>\n",
       "      <td>0002005018</td>\n",
       "      <td>8</td>\n",
       "    </tr>\n",
       "    <tr>\n",
       "      <th>3</th>\n",
       "      <td>200273</td>\n",
       "      <td>0002005018</td>\n",
       "      <td>8</td>\n",
       "    </tr>\n",
       "    <tr>\n",
       "      <th>4</th>\n",
       "      <td>210926</td>\n",
       "      <td>0002005018</td>\n",
       "      <td>9</td>\n",
       "    </tr>\n",
       "    <tr>\n",
       "      <th>...</th>\n",
       "      <td>...</td>\n",
       "      <td>...</td>\n",
       "      <td>...</td>\n",
       "    </tr>\n",
       "    <tr>\n",
       "      <th>306790</th>\n",
       "      <td>278843</td>\n",
       "      <td>0743525493</td>\n",
       "      <td>7</td>\n",
       "    </tr>\n",
       "    <tr>\n",
       "      <th>306791</th>\n",
       "      <td>278851</td>\n",
       "      <td>067161746X</td>\n",
       "      <td>6</td>\n",
       "    </tr>\n",
       "    <tr>\n",
       "      <th>306792</th>\n",
       "      <td>278851</td>\n",
       "      <td>0884159221</td>\n",
       "      <td>7</td>\n",
       "    </tr>\n",
       "    <tr>\n",
       "      <th>306793</th>\n",
       "      <td>278851</td>\n",
       "      <td>0912333022</td>\n",
       "      <td>7</td>\n",
       "    </tr>\n",
       "    <tr>\n",
       "      <th>306794</th>\n",
       "      <td>278851</td>\n",
       "      <td>1569661057</td>\n",
       "      <td>10</td>\n",
       "    </tr>\n",
       "  </tbody>\n",
       "</table>\n",
       "<p>306795 rows × 3 columns</p>\n",
       "</div>"
      ],
      "text/plain": [
       "        user_id        isbn  rating\n",
       "0             8  0002005018       4\n",
       "1         67544  0002005018       7\n",
       "2        123629  0002005018       8\n",
       "3        200273  0002005018       8\n",
       "4        210926  0002005018       9\n",
       "...         ...         ...     ...\n",
       "306790   278843  0743525493       7\n",
       "306791   278851  067161746X       6\n",
       "306792   278851  0884159221       7\n",
       "306793   278851  0912333022       7\n",
       "306794   278851  1569661057      10\n",
       "\n",
       "[306795 rows x 3 columns]"
      ]
     },
     "execution_count": 101,
     "metadata": {},
     "output_type": "execute_result"
    }
   ],
   "source": [
    "train"
   ]
  },
  {
   "cell_type": "code",
   "execution_count": 102,
   "id": "1e3026f4-fcaf-4998-a102-b8c91ac505d8",
   "metadata": {},
   "outputs": [],
   "source": [
    "count=train.groupby(\"user_id\").size()"
   ]
  },
  {
   "cell_type": "code",
   "execution_count": 103,
   "id": "1c10acc2-3751-4abd-a282-3b21f2d813c4",
   "metadata": {},
   "outputs": [],
   "source": [
    "dfcount = pd.DataFrame(count, columns=[\"count\"])"
   ]
  },
  {
   "cell_type": "code",
   "execution_count": 104,
   "id": "005d413d-595b-4ec4-80eb-7d2ed2728aa5",
   "metadata": {},
   "outputs": [
    {
     "data": {
      "text/html": [
       "<div>\n",
       "<style scoped>\n",
       "    .dataframe tbody tr th:only-of-type {\n",
       "        vertical-align: middle;\n",
       "    }\n",
       "\n",
       "    .dataframe tbody tr th {\n",
       "        vertical-align: top;\n",
       "    }\n",
       "\n",
       "    .dataframe thead th {\n",
       "        text-align: right;\n",
       "    }\n",
       "</style>\n",
       "<table border=\"1\" class=\"dataframe\">\n",
       "  <thead>\n",
       "    <tr style=\"text-align: right;\">\n",
       "      <th></th>\n",
       "      <th>count</th>\n",
       "    </tr>\n",
       "    <tr>\n",
       "      <th>user_id</th>\n",
       "      <th></th>\n",
       "    </tr>\n",
       "  </thead>\n",
       "  <tbody>\n",
       "    <tr>\n",
       "      <th>8</th>\n",
       "      <td>7</td>\n",
       "    </tr>\n",
       "    <tr>\n",
       "      <th>9</th>\n",
       "      <td>1</td>\n",
       "    </tr>\n",
       "    <tr>\n",
       "      <th>12</th>\n",
       "      <td>1</td>\n",
       "    </tr>\n",
       "    <tr>\n",
       "      <th>14</th>\n",
       "      <td>2</td>\n",
       "    </tr>\n",
       "    <tr>\n",
       "      <th>16</th>\n",
       "      <td>1</td>\n",
       "    </tr>\n",
       "    <tr>\n",
       "      <th>...</th>\n",
       "      <td>...</td>\n",
       "    </tr>\n",
       "    <tr>\n",
       "      <th>278846</th>\n",
       "      <td>1</td>\n",
       "    </tr>\n",
       "    <tr>\n",
       "      <th>278849</th>\n",
       "      <td>1</td>\n",
       "    </tr>\n",
       "    <tr>\n",
       "      <th>278851</th>\n",
       "      <td>12</td>\n",
       "    </tr>\n",
       "    <tr>\n",
       "      <th>278852</th>\n",
       "      <td>1</td>\n",
       "    </tr>\n",
       "    <tr>\n",
       "      <th>278854</th>\n",
       "      <td>3</td>\n",
       "    </tr>\n",
       "  </tbody>\n",
       "</table>\n",
       "<p>59803 rows × 1 columns</p>\n",
       "</div>"
      ],
      "text/plain": [
       "         count\n",
       "user_id       \n",
       "8            7\n",
       "9            1\n",
       "12           1\n",
       "14           2\n",
       "16           1\n",
       "...        ...\n",
       "278846       1\n",
       "278849       1\n",
       "278851      12\n",
       "278852       1\n",
       "278854       3\n",
       "\n",
       "[59803 rows x 1 columns]"
      ]
     },
     "execution_count": 104,
     "metadata": {},
     "output_type": "execute_result"
    }
   ],
   "source": [
    "dfcount"
   ]
  },
  {
   "cell_type": "code",
   "execution_count": 105,
   "id": "c03bcd33-4933-4e20-b36f-07e687c5678c",
   "metadata": {},
   "outputs": [],
   "source": [
    "train.merge(dfcount,on=\"user_id\").to_csv(\"train_user_count.csv\")"
   ]
  },
  {
   "cell_type": "code",
   "execution_count": 106,
   "id": "8995c1f8-943f-42ab-958d-297567829335",
   "metadata": {},
   "outputs": [
    {
     "data": {
      "text/html": [
       "<div>\n",
       "<style scoped>\n",
       "    .dataframe tbody tr th:only-of-type {\n",
       "        vertical-align: middle;\n",
       "    }\n",
       "\n",
       "    .dataframe tbody tr th {\n",
       "        vertical-align: top;\n",
       "    }\n",
       "\n",
       "    .dataframe thead th {\n",
       "        text-align: right;\n",
       "    }\n",
       "</style>\n",
       "<table border=\"1\" class=\"dataframe\">\n",
       "  <thead>\n",
       "    <tr style=\"text-align: right;\">\n",
       "      <th></th>\n",
       "      <th>user_id</th>\n",
       "      <th>isbn</th>\n",
       "      <th>rating</th>\n",
       "      <th>count</th>\n",
       "    </tr>\n",
       "  </thead>\n",
       "  <tbody>\n",
       "    <tr>\n",
       "      <th>0</th>\n",
       "      <td>8</td>\n",
       "      <td>0002005018</td>\n",
       "      <td>4</td>\n",
       "      <td>7</td>\n",
       "    </tr>\n",
       "    <tr>\n",
       "      <th>1</th>\n",
       "      <td>8</td>\n",
       "      <td>074322678X</td>\n",
       "      <td>4</td>\n",
       "      <td>7</td>\n",
       "    </tr>\n",
       "    <tr>\n",
       "      <th>2</th>\n",
       "      <td>8</td>\n",
       "      <td>0887841740</td>\n",
       "      <td>2</td>\n",
       "      <td>7</td>\n",
       "    </tr>\n",
       "    <tr>\n",
       "      <th>3</th>\n",
       "      <td>8</td>\n",
       "      <td>1552041778</td>\n",
       "      <td>2</td>\n",
       "      <td>7</td>\n",
       "    </tr>\n",
       "    <tr>\n",
       "      <th>4</th>\n",
       "      <td>8</td>\n",
       "      <td>1567407781</td>\n",
       "      <td>6</td>\n",
       "      <td>7</td>\n",
       "    </tr>\n",
       "    <tr>\n",
       "      <th>...</th>\n",
       "      <td>...</td>\n",
       "      <td>...</td>\n",
       "      <td>...</td>\n",
       "      <td>...</td>\n",
       "    </tr>\n",
       "    <tr>\n",
       "      <th>306790</th>\n",
       "      <td>278411</td>\n",
       "      <td>0446608831</td>\n",
       "      <td>8</td>\n",
       "      <td>1</td>\n",
       "    </tr>\n",
       "    <tr>\n",
       "      <th>306791</th>\n",
       "      <td>278621</td>\n",
       "      <td>1550390961</td>\n",
       "      <td>8</td>\n",
       "      <td>1</td>\n",
       "    </tr>\n",
       "    <tr>\n",
       "      <th>306792</th>\n",
       "      <td>278636</td>\n",
       "      <td>0375507299</td>\n",
       "      <td>2</td>\n",
       "      <td>1</td>\n",
       "    </tr>\n",
       "    <tr>\n",
       "      <th>306793</th>\n",
       "      <td>278659</td>\n",
       "      <td>0345330293</td>\n",
       "      <td>10</td>\n",
       "      <td>1</td>\n",
       "    </tr>\n",
       "    <tr>\n",
       "      <th>306794</th>\n",
       "      <td>278713</td>\n",
       "      <td>0670528951</td>\n",
       "      <td>7</td>\n",
       "      <td>1</td>\n",
       "    </tr>\n",
       "  </tbody>\n",
       "</table>\n",
       "<p>306795 rows × 4 columns</p>\n",
       "</div>"
      ],
      "text/plain": [
       "        user_id        isbn  rating  count\n",
       "0             8  0002005018       4      7\n",
       "1             8  074322678X       4      7\n",
       "2             8  0887841740       2      7\n",
       "3             8  1552041778       2      7\n",
       "4             8  1567407781       6      7\n",
       "...         ...         ...     ...    ...\n",
       "306790   278411  0446608831       8      1\n",
       "306791   278621  1550390961       8      1\n",
       "306792   278636  0375507299       2      1\n",
       "306793   278659  0345330293      10      1\n",
       "306794   278713  0670528951       7      1\n",
       "\n",
       "[306795 rows x 4 columns]"
      ]
     },
     "execution_count": 106,
     "metadata": {},
     "output_type": "execute_result"
    }
   ],
   "source": [
    "newtrain = train.merge(dfcount,on=\"user_id\")\n",
    "newtrain"
   ]
  },
  {
   "cell_type": "code",
   "execution_count": 114,
   "id": "5c1594be-0d53-43e1-96db-17c0a468f3db",
   "metadata": {},
   "outputs": [
    {
     "data": {
      "text/html": [
       "<div>\n",
       "<style scoped>\n",
       "    .dataframe tbody tr th:only-of-type {\n",
       "        vertical-align: middle;\n",
       "    }\n",
       "\n",
       "    .dataframe tbody tr th {\n",
       "        vertical-align: top;\n",
       "    }\n",
       "\n",
       "    .dataframe thead th {\n",
       "        text-align: right;\n",
       "    }\n",
       "</style>\n",
       "<table border=\"1\" class=\"dataframe\">\n",
       "  <thead>\n",
       "    <tr style=\"text-align: right;\">\n",
       "      <th></th>\n",
       "      <th>user_id</th>\n",
       "      <th>isbn</th>\n",
       "      <th>rating</th>\n",
       "      <th>count</th>\n",
       "    </tr>\n",
       "  </thead>\n",
       "  <tbody>\n",
       "    <tr>\n",
       "      <th>14</th>\n",
       "      <td>123629</td>\n",
       "      <td>0002005018</td>\n",
       "      <td>8</td>\n",
       "      <td>1</td>\n",
       "    </tr>\n",
       "    <tr>\n",
       "      <th>15</th>\n",
       "      <td>200273</td>\n",
       "      <td>0002005018</td>\n",
       "      <td>8</td>\n",
       "      <td>1</td>\n",
       "    </tr>\n",
       "    <tr>\n",
       "      <th>6781</th>\n",
       "      <td>198013</td>\n",
       "      <td>0399135782</td>\n",
       "      <td>7</td>\n",
       "      <td>1</td>\n",
       "    </tr>\n",
       "    <tr>\n",
       "      <th>6782</th>\n",
       "      <td>212449</td>\n",
       "      <td>0399135782</td>\n",
       "      <td>7</td>\n",
       "      <td>1</td>\n",
       "    </tr>\n",
       "    <tr>\n",
       "      <th>7077</th>\n",
       "      <td>252921</td>\n",
       "      <td>0399135782</td>\n",
       "      <td>8</td>\n",
       "      <td>1</td>\n",
       "    </tr>\n",
       "    <tr>\n",
       "      <th>...</th>\n",
       "      <td>...</td>\n",
       "      <td>...</td>\n",
       "      <td>...</td>\n",
       "      <td>...</td>\n",
       "    </tr>\n",
       "    <tr>\n",
       "      <th>276550</th>\n",
       "      <td>109230</td>\n",
       "      <td>0385503954</td>\n",
       "      <td>5</td>\n",
       "      <td>1</td>\n",
       "    </tr>\n",
       "    <tr>\n",
       "      <th>276551</th>\n",
       "      <td>118896</td>\n",
       "      <td>0385503954</td>\n",
       "      <td>9</td>\n",
       "      <td>1</td>\n",
       "    </tr>\n",
       "    <tr>\n",
       "      <th>276552</th>\n",
       "      <td>139892</td>\n",
       "      <td>0385503954</td>\n",
       "      <td>7</td>\n",
       "      <td>1</td>\n",
       "    </tr>\n",
       "    <tr>\n",
       "      <th>276553</th>\n",
       "      <td>175048</td>\n",
       "      <td>0385503954</td>\n",
       "      <td>6</td>\n",
       "      <td>1</td>\n",
       "    </tr>\n",
       "    <tr>\n",
       "      <th>276554</th>\n",
       "      <td>182873</td>\n",
       "      <td>0385503954</td>\n",
       "      <td>8</td>\n",
       "      <td>1</td>\n",
       "    </tr>\n",
       "  </tbody>\n",
       "</table>\n",
       "<p>17308 rows × 4 columns</p>\n",
       "</div>"
      ],
      "text/plain": [
       "        user_id        isbn  rating  count\n",
       "14       123629  0002005018       8      1\n",
       "15       200273  0002005018       8      1\n",
       "6781     198013  0399135782       7      1\n",
       "6782     212449  0399135782       7      1\n",
       "7077     252921  0399135782       8      1\n",
       "...         ...         ...     ...    ...\n",
       "276550   109230  0385503954       5      1\n",
       "276551   118896  0385503954       9      1\n",
       "276552   139892  0385503954       7      1\n",
       "276553   175048  0385503954       6      1\n",
       "276554   182873  0385503954       8      1\n",
       "\n",
       "[17308 rows x 4 columns]"
      ]
     },
     "execution_count": 114,
     "metadata": {},
     "output_type": "execute_result"
    }
   ],
   "source": [
    "newtrain[newtrain[\"count\"]==1].iloc[:17308, :]"
   ]
  },
  {
   "cell_type": "code",
   "execution_count": 115,
   "id": "c50a7867-1772-42ad-8687-c1effa93febe",
   "metadata": {},
   "outputs": [
    {
     "data": {
      "text/html": [
       "<div>\n",
       "<style scoped>\n",
       "    .dataframe tbody tr th:only-of-type {\n",
       "        vertical-align: middle;\n",
       "    }\n",
       "\n",
       "    .dataframe tbody tr th {\n",
       "        vertical-align: top;\n",
       "    }\n",
       "\n",
       "    .dataframe thead th {\n",
       "        text-align: right;\n",
       "    }\n",
       "</style>\n",
       "<table border=\"1\" class=\"dataframe\">\n",
       "  <thead>\n",
       "    <tr style=\"text-align: right;\">\n",
       "      <th></th>\n",
       "      <th>user_id</th>\n",
       "      <th>isbn</th>\n",
       "      <th>rating</th>\n",
       "      <th>count</th>\n",
       "    </tr>\n",
       "  </thead>\n",
       "  <tbody>\n",
       "    <tr>\n",
       "      <th>276557</th>\n",
       "      <td>231793</td>\n",
       "      <td>0385503954</td>\n",
       "      <td>1</td>\n",
       "      <td>1</td>\n",
       "    </tr>\n",
       "    <tr>\n",
       "      <th>276558</th>\n",
       "      <td>244215</td>\n",
       "      <td>0385503954</td>\n",
       "      <td>6</td>\n",
       "      <td>1</td>\n",
       "    </tr>\n",
       "    <tr>\n",
       "      <th>276559</th>\n",
       "      <td>253330</td>\n",
       "      <td>0385503954</td>\n",
       "      <td>9</td>\n",
       "      <td>1</td>\n",
       "    </tr>\n",
       "    <tr>\n",
       "      <th>276560</th>\n",
       "      <td>259342</td>\n",
       "      <td>0385503954</td>\n",
       "      <td>9</td>\n",
       "      <td>1</td>\n",
       "    </tr>\n",
       "    <tr>\n",
       "      <th>276561</th>\n",
       "      <td>50156</td>\n",
       "      <td>0385504470</td>\n",
       "      <td>7</td>\n",
       "      <td>1</td>\n",
       "    </tr>\n",
       "    <tr>\n",
       "      <th>...</th>\n",
       "      <td>...</td>\n",
       "      <td>...</td>\n",
       "      <td>...</td>\n",
       "      <td>...</td>\n",
       "    </tr>\n",
       "    <tr>\n",
       "      <th>306790</th>\n",
       "      <td>278411</td>\n",
       "      <td>0446608831</td>\n",
       "      <td>8</td>\n",
       "      <td>1</td>\n",
       "    </tr>\n",
       "    <tr>\n",
       "      <th>306791</th>\n",
       "      <td>278621</td>\n",
       "      <td>1550390961</td>\n",
       "      <td>8</td>\n",
       "      <td>1</td>\n",
       "    </tr>\n",
       "    <tr>\n",
       "      <th>306792</th>\n",
       "      <td>278636</td>\n",
       "      <td>0375507299</td>\n",
       "      <td>2</td>\n",
       "      <td>1</td>\n",
       "    </tr>\n",
       "    <tr>\n",
       "      <th>306793</th>\n",
       "      <td>278659</td>\n",
       "      <td>0345330293</td>\n",
       "      <td>10</td>\n",
       "      <td>1</td>\n",
       "    </tr>\n",
       "    <tr>\n",
       "      <th>306794</th>\n",
       "      <td>278713</td>\n",
       "      <td>0670528951</td>\n",
       "      <td>7</td>\n",
       "      <td>1</td>\n",
       "    </tr>\n",
       "  </tbody>\n",
       "</table>\n",
       "<p>17309 rows × 4 columns</p>\n",
       "</div>"
      ],
      "text/plain": [
       "        user_id        isbn  rating  count\n",
       "276557   231793  0385503954       1      1\n",
       "276558   244215  0385503954       6      1\n",
       "276559   253330  0385503954       9      1\n",
       "276560   259342  0385503954       9      1\n",
       "276561    50156  0385504470       7      1\n",
       "...         ...         ...     ...    ...\n",
       "306790   278411  0446608831       8      1\n",
       "306791   278621  1550390961       8      1\n",
       "306792   278636  0375507299       2      1\n",
       "306793   278659  0345330293      10      1\n",
       "306794   278713  0670528951       7      1\n",
       "\n",
       "[17309 rows x 4 columns]"
      ]
     },
     "execution_count": 115,
     "metadata": {},
     "output_type": "execute_result"
    }
   ],
   "source": [
    "newtrain[newtrain[\"count\"]==1].iloc[17308:, :]"
   ]
  },
  {
   "cell_type": "code",
   "execution_count": 108,
   "id": "4837de1e-1672-4007-b991-7d5e241cc572",
   "metadata": {},
   "outputs": [
    {
     "data": {
      "text/html": [
       "<div>\n",
       "<style scoped>\n",
       "    .dataframe tbody tr th:only-of-type {\n",
       "        vertical-align: middle;\n",
       "    }\n",
       "\n",
       "    .dataframe tbody tr th {\n",
       "        vertical-align: top;\n",
       "    }\n",
       "\n",
       "    .dataframe thead th {\n",
       "        text-align: right;\n",
       "    }\n",
       "</style>\n",
       "<table border=\"1\" class=\"dataframe\">\n",
       "  <thead>\n",
       "    <tr style=\"text-align: right;\">\n",
       "      <th></th>\n",
       "      <th>user_id</th>\n",
       "      <th>isbn</th>\n",
       "      <th>rating</th>\n",
       "      <th>count</th>\n",
       "    </tr>\n",
       "  </thead>\n",
       "  <tbody>\n",
       "    <tr>\n",
       "      <th>0</th>\n",
       "      <td>8</td>\n",
       "      <td>0002005018</td>\n",
       "      <td>4</td>\n",
       "      <td>7</td>\n",
       "    </tr>\n",
       "    <tr>\n",
       "      <th>1</th>\n",
       "      <td>8</td>\n",
       "      <td>074322678X</td>\n",
       "      <td>4</td>\n",
       "      <td>7</td>\n",
       "    </tr>\n",
       "    <tr>\n",
       "      <th>2</th>\n",
       "      <td>8</td>\n",
       "      <td>0887841740</td>\n",
       "      <td>2</td>\n",
       "      <td>7</td>\n",
       "    </tr>\n",
       "    <tr>\n",
       "      <th>3</th>\n",
       "      <td>8</td>\n",
       "      <td>1552041778</td>\n",
       "      <td>2</td>\n",
       "      <td>7</td>\n",
       "    </tr>\n",
       "    <tr>\n",
       "      <th>4</th>\n",
       "      <td>8</td>\n",
       "      <td>1567407781</td>\n",
       "      <td>6</td>\n",
       "      <td>7</td>\n",
       "    </tr>\n",
       "    <tr>\n",
       "      <th>...</th>\n",
       "      <td>...</td>\n",
       "      <td>...</td>\n",
       "      <td>...</td>\n",
       "      <td>...</td>\n",
       "    </tr>\n",
       "    <tr>\n",
       "      <th>306759</th>\n",
       "      <td>276664</td>\n",
       "      <td>0004703723</td>\n",
       "      <td>9</td>\n",
       "      <td>3</td>\n",
       "    </tr>\n",
       "    <tr>\n",
       "      <th>306760</th>\n",
       "      <td>276664</td>\n",
       "      <td>0631189629</td>\n",
       "      <td>9</td>\n",
       "      <td>3</td>\n",
       "    </tr>\n",
       "    <tr>\n",
       "      <th>306761</th>\n",
       "      <td>276664</td>\n",
       "      <td>0747205051</td>\n",
       "      <td>7</td>\n",
       "      <td>3</td>\n",
       "    </tr>\n",
       "    <tr>\n",
       "      <th>306762</th>\n",
       "      <td>276729</td>\n",
       "      <td>052165615X</td>\n",
       "      <td>1</td>\n",
       "      <td>2</td>\n",
       "    </tr>\n",
       "    <tr>\n",
       "      <th>306763</th>\n",
       "      <td>276729</td>\n",
       "      <td>0521795028</td>\n",
       "      <td>5</td>\n",
       "      <td>2</td>\n",
       "    </tr>\n",
       "  </tbody>\n",
       "</table>\n",
       "<p>272178 rows × 4 columns</p>\n",
       "</div>"
      ],
      "text/plain": [
       "        user_id        isbn  rating  count\n",
       "0             8  0002005018       4      7\n",
       "1             8  074322678X       4      7\n",
       "2             8  0887841740       2      7\n",
       "3             8  1552041778       2      7\n",
       "4             8  1567407781       6      7\n",
       "...         ...         ...     ...    ...\n",
       "306759   276664  0004703723       9      3\n",
       "306760   276664  0631189629       9      3\n",
       "306761   276664  0747205051       7      3\n",
       "306762   276729  052165615X       1      2\n",
       "306763   276729  0521795028       5      2\n",
       "\n",
       "[272178 rows x 4 columns]"
      ]
     },
     "execution_count": 108,
     "metadata": {},
     "output_type": "execute_result"
    }
   ],
   "source": [
    "newtrain[newtrain[\"count\"]!=1]"
   ]
  },
  {
   "cell_type": "code",
   "execution_count": null,
   "id": "728870e9-84df-4e6e-9b06-0da97d79b841",
   "metadata": {},
   "outputs": [],
   "source": []
  },
  {
   "cell_type": "code",
   "execution_count": null,
   "id": "9d347983-4849-4458-a8d3-b080788ec39a",
   "metadata": {},
   "outputs": [],
   "source": []
  },
  {
   "cell_type": "code",
   "execution_count": null,
   "id": "cec703bd-99bd-46c5-85e1-7fb917a1c1a5",
   "metadata": {},
   "outputs": [],
   "source": []
  },
  {
   "cell_type": "code",
   "execution_count": null,
   "id": "72b20abb-6d42-4ea7-9bfe-85b7ac6a7725",
   "metadata": {},
   "outputs": [],
   "source": []
  },
  {
   "cell_type": "code",
   "execution_count": null,
   "id": "209a0d29-e254-4f04-97d2-65d36145cdcc",
   "metadata": {},
   "outputs": [],
   "source": []
  },
  {
   "cell_type": "code",
   "execution_count": null,
   "id": "f33e83a2-c00b-4efb-9911-18d4cc73fc8c",
   "metadata": {},
   "outputs": [],
   "source": []
  },
  {
   "cell_type": "code",
   "execution_count": null,
   "id": "ab62c89c-eda6-4363-8728-465a5464f0ee",
   "metadata": {},
   "outputs": [],
   "source": []
  },
  {
   "cell_type": "code",
   "execution_count": null,
   "id": "7a957c95-58a1-4380-95ad-6bb15c2f8910",
   "metadata": {},
   "outputs": [],
   "source": []
  },
  {
   "cell_type": "code",
   "execution_count": null,
   "id": "ac342ab3-34dc-4a97-b19a-63075d7b56ef",
   "metadata": {},
   "outputs": [],
   "source": []
  },
  {
   "cell_type": "code",
   "execution_count": null,
   "id": "c4919659-d58f-45c5-bdf3-b1c635c8a499",
   "metadata": {},
   "outputs": [],
   "source": []
  },
  {
   "cell_type": "code",
   "execution_count": 75,
   "id": "b2c1aadc-108b-4bfa-a413-0a1ee0d2d9e7",
   "metadata": {},
   "outputs": [],
   "source": [
    "count=test.groupby(\"user_id\").size()"
   ]
  },
  {
   "cell_type": "code",
   "execution_count": 76,
   "id": "23c563c2-5ae6-4954-a3b4-bfd7ea035588",
   "metadata": {},
   "outputs": [],
   "source": [
    "dfcount = pd.DataFrame(count, columns=[\"count\"])"
   ]
  },
  {
   "cell_type": "code",
   "execution_count": 77,
   "id": "0a945ece-9e60-426e-a8cc-102800b34869",
   "metadata": {},
   "outputs": [
    {
     "data": {
      "text/html": [
       "<div>\n",
       "<style scoped>\n",
       "    .dataframe tbody tr th:only-of-type {\n",
       "        vertical-align: middle;\n",
       "    }\n",
       "\n",
       "    .dataframe tbody tr th {\n",
       "        vertical-align: top;\n",
       "    }\n",
       "\n",
       "    .dataframe thead th {\n",
       "        text-align: right;\n",
       "    }\n",
       "</style>\n",
       "<table border=\"1\" class=\"dataframe\">\n",
       "  <thead>\n",
       "    <tr style=\"text-align: right;\">\n",
       "      <th></th>\n",
       "      <th>count</th>\n",
       "    </tr>\n",
       "    <tr>\n",
       "      <th>user_id</th>\n",
       "      <th></th>\n",
       "    </tr>\n",
       "  </thead>\n",
       "  <tbody>\n",
       "    <tr>\n",
       "      <th>14</th>\n",
       "      <td>1</td>\n",
       "    </tr>\n",
       "    <tr>\n",
       "      <th>17</th>\n",
       "      <td>2</td>\n",
       "    </tr>\n",
       "    <tr>\n",
       "      <th>51</th>\n",
       "      <td>1</td>\n",
       "    </tr>\n",
       "    <tr>\n",
       "      <th>53</th>\n",
       "      <td>2</td>\n",
       "    </tr>\n",
       "    <tr>\n",
       "      <th>73</th>\n",
       "      <td>1</td>\n",
       "    </tr>\n",
       "    <tr>\n",
       "      <th>...</th>\n",
       "      <td>...</td>\n",
       "    </tr>\n",
       "    <tr>\n",
       "      <th>278836</th>\n",
       "      <td>1</td>\n",
       "    </tr>\n",
       "    <tr>\n",
       "      <th>278843</th>\n",
       "      <td>5</td>\n",
       "    </tr>\n",
       "    <tr>\n",
       "      <th>278844</th>\n",
       "      <td>1</td>\n",
       "    </tr>\n",
       "    <tr>\n",
       "      <th>278851</th>\n",
       "      <td>2</td>\n",
       "    </tr>\n",
       "    <tr>\n",
       "      <th>278854</th>\n",
       "      <td>3</td>\n",
       "    </tr>\n",
       "  </tbody>\n",
       "</table>\n",
       "<p>26167 rows × 1 columns</p>\n",
       "</div>"
      ],
      "text/plain": [
       "         count\n",
       "user_id       \n",
       "14           1\n",
       "17           2\n",
       "51           1\n",
       "53           2\n",
       "73           1\n",
       "...        ...\n",
       "278836       1\n",
       "278843       5\n",
       "278844       1\n",
       "278851       2\n",
       "278854       3\n",
       "\n",
       "[26167 rows x 1 columns]"
      ]
     },
     "execution_count": 77,
     "metadata": {},
     "output_type": "execute_result"
    }
   ],
   "source": [
    "dfcount"
   ]
  },
  {
   "cell_type": "code",
   "execution_count": 91,
   "id": "27ea3dca-898f-48cd-8d20-c70f9698958e",
   "metadata": {},
   "outputs": [],
   "source": [
    "newtest = test.merge(dfcount,on=\"user_id\")"
   ]
  },
  {
   "cell_type": "code",
   "execution_count": 98,
   "id": "92e6b5ec-b0e7-4d6f-9766-d83e5c0f2716",
   "metadata": {},
   "outputs": [
    {
     "data": {
      "text/plain": [
       "1433     157969\n",
       "1472     263256\n",
       "1484      12923\n",
       "1530      21264\n",
       "1531      31299\n",
       "          ...  \n",
       "76694    277514\n",
       "76695    277565\n",
       "76696    277680\n",
       "76697    278257\n",
       "76698    278543\n",
       "Name: user_id, Length: 16785, dtype: int64"
      ]
     },
     "execution_count": 98,
     "metadata": {},
     "output_type": "execute_result"
    }
   ],
   "source": [
    "newtest[newtest[\"count\"]==1][\"user_id\"]"
   ]
  },
  {
   "cell_type": "code",
   "execution_count": 88,
   "id": "c4b00d44-c86c-47a8-9e4f-b56dc58a59fc",
   "metadata": {},
   "outputs": [
    {
     "data": {
      "text/plain": [
       "14        123629\n",
       "15        200273\n",
       "6781      198013\n",
       "6782      212449\n",
       "7077      252921\n",
       "           ...  \n",
       "306790    278411\n",
       "306791    278621\n",
       "306792    278636\n",
       "306793    278659\n",
       "306794    278713\n",
       "Name: user_id, Length: 34617, dtype: int64"
      ]
     },
     "execution_count": 88,
     "metadata": {},
     "output_type": "execute_result"
    }
   ],
   "source": [
    "newtrain[newtrain[\"count\"]==1][\"user_id\"]"
   ]
  },
  {
   "cell_type": "code",
   "execution_count": null,
   "id": "8c326648-4c03-4eba-bfd4-6af0d861016b",
   "metadata": {},
   "outputs": [],
   "source": []
  },
  {
   "cell_type": "code",
   "execution_count": null,
   "id": "36b3fb54-8afa-443c-9258-764e94651e1b",
   "metadata": {},
   "outputs": [],
   "source": []
  },
  {
   "cell_type": "code",
   "execution_count": null,
   "id": "236c6388-6ab3-4075-a99d-2425b46169a2",
   "metadata": {},
   "outputs": [],
   "source": []
  },
  {
   "cell_type": "code",
   "execution_count": null,
   "id": "cc4fa705-1a5e-45e5-bb68-46ef549f114c",
   "metadata": {},
   "outputs": [],
   "source": []
  },
  {
   "cell_type": "code",
   "execution_count": null,
   "id": "bf12680e-8ff7-47a5-a2a7-9d899fc36c2f",
   "metadata": {},
   "outputs": [],
   "source": []
  },
  {
   "cell_type": "code",
   "execution_count": null,
   "id": "5f86b6ea-d8c4-4b08-b672-0c6afcafe4aa",
   "metadata": {},
   "outputs": [],
   "source": []
  },
  {
   "cell_type": "code",
   "execution_count": null,
   "id": "c9aa132d-ce5d-4ed6-9708-cd9572357f12",
   "metadata": {},
   "outputs": [],
   "source": []
  },
  {
   "cell_type": "code",
   "execution_count": 29,
   "id": "1fce37fc-d43a-4c54-9047-bb13aa3a3286",
   "metadata": {},
   "outputs": [
    {
     "data": {
      "text/plain": [
       "(306795, 3)"
      ]
     },
     "execution_count": 29,
     "metadata": {},
     "output_type": "execute_result"
    }
   ],
   "source": [
    "train.shape"
   ]
  },
  {
   "cell_type": "code",
   "execution_count": 26,
   "id": "7960740a-1a9f-4037-9214-55c87b7488b4",
   "metadata": {},
   "outputs": [
    {
     "data": {
      "text/plain": [
       "0.1128343030362294"
      ]
     },
     "execution_count": 26,
     "metadata": {},
     "output_type": "execute_result"
    }
   ],
   "source": [
    "34617/306795"
   ]
  },
  {
   "cell_type": "code",
   "execution_count": null,
   "id": "20664038-cba6-4e56-bf13-206d9fc7c44e",
   "metadata": {},
   "outputs": [],
   "source": [
    "34617/306795"
   ]
  },
  {
   "cell_type": "code",
   "execution_count": 3,
   "id": "cc789c79-c092-4a21-891d-5d82c25094e5",
   "metadata": {},
   "outputs": [
    {
     "data": {
      "text/plain": [
       "59803"
      ]
     },
     "execution_count": 3,
     "metadata": {},
     "output_type": "execute_result"
    }
   ],
   "source": [
    "train[\"user_id\"].nunique()"
   ]
  },
  {
   "cell_type": "code",
   "execution_count": 10,
   "id": "30e9a6da-f82c-4114-866f-5da00b0f2685",
   "metadata": {},
   "outputs": [
    {
     "data": {
      "text/plain": [
       "user_id\n",
       "8          7\n",
       "9          1\n",
       "12         1\n",
       "14         2\n",
       "16         1\n",
       "          ..\n",
       "278846     1\n",
       "278849     1\n",
       "278851    12\n",
       "278852     1\n",
       "278854     3\n",
       "Length: 59803, dtype: int64"
      ]
     },
     "execution_count": 10,
     "metadata": {},
     "output_type": "execute_result"
    }
   ],
   "source": [
    "train_user_count = train.groupby('user_id').size()\n",
    "train_user_count"
   ]
  },
  {
   "cell_type": "code",
   "execution_count": 13,
   "id": "dc470363-c2a3-41d9-865d-b8c180d28a34",
   "metadata": {},
   "outputs": [
    {
     "data": {
      "text/plain": [
       "1      34617\n",
       "2       7870\n",
       "3       4093\n",
       "4       2539\n",
       "5       1698\n",
       "       ...  \n",
       "375        1\n",
       "353        1\n",
       "810        1\n",
       "151        1\n",
       "163        1\n",
       "Length: 246, dtype: int64"
      ]
     },
     "execution_count": 13,
     "metadata": {},
     "output_type": "execute_result"
    }
   ],
   "source": [
    "train_user_count.value_counts()"
   ]
  },
  {
   "cell_type": "code",
   "execution_count": 14,
   "id": "4e046742-b957-4e88-a015-486fb02ac8f2",
   "metadata": {},
   "outputs": [
    {
     "data": {
      "text/plain": [
       "26167"
      ]
     },
     "execution_count": 14,
     "metadata": {},
     "output_type": "execute_result"
    }
   ],
   "source": [
    "test[\"user_id\"].nunique()"
   ]
  },
  {
   "cell_type": "code",
   "execution_count": 18,
   "id": "758e8544-02a8-4748-b3b2-b3fdf101e4dc",
   "metadata": {},
   "outputs": [
    {
     "data": {
      "text/plain": [
       "user_id\n",
       "14        1\n",
       "17        2\n",
       "51        1\n",
       "53        2\n",
       "73        1\n",
       "         ..\n",
       "278836    1\n",
       "278843    5\n",
       "278844    1\n",
       "278851    2\n",
       "278854    3\n",
       "Length: 26167, dtype: int64"
      ]
     },
     "execution_count": 18,
     "metadata": {},
     "output_type": "execute_result"
    }
   ],
   "source": [
    "test.groupby(\"user_id\").size()"
   ]
  },
  {
   "cell_type": "code",
   "execution_count": null,
   "id": "f16f1ac3-748c-42e0-a4ec-bf548d9ebd6c",
   "metadata": {},
   "outputs": [],
   "source": []
  }
 ],
 "metadata": {
  "kernelspec": {
   "display_name": "Python 3 (ipykernel)",
   "language": "python",
   "name": "python3"
  },
  "language_info": {
   "codemirror_mode": {
    "name": "ipython",
    "version": 3
   },
   "file_extension": ".py",
   "mimetype": "text/x-python",
   "name": "python",
   "nbconvert_exporter": "python",
   "pygments_lexer": "ipython3",
   "version": "3.8.5"
  }
 },
 "nbformat": 4,
 "nbformat_minor": 5
}
