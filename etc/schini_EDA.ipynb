{
 "cells": [
  {
   "cell_type": "code",
   "execution_count": 122,
   "metadata": {},
   "outputs": [],
   "source": [
    "import numpy as np\n",
    "import pandas as pd\n",
    "import seaborn as sns\n",
    "import matplotlib.pyplot as plt"
   ]
  },
  {
   "cell_type": "code",
   "execution_count": 123,
   "metadata": {},
   "outputs": [],
   "source": [
    "DATA_PATH = '../data/'\n",
    "\n",
    "users = pd.read_csv(DATA_PATH + 'users.csv')\n",
    "books = pd.read_csv(DATA_PATH + 'books.csv')\n",
    "train = pd.read_csv(DATA_PATH + 'train_ratings.csv')\n",
    "test = pd.read_csv(DATA_PATH + 'test_ratings.csv')\n",
    "sub = pd.read_csv(DATA_PATH + 'sample_submission.csv')"
   ]
  },
  {
   "cell_type": "code",
   "execution_count": 134,
   "metadata": {},
   "outputs": [
    {
     "name": "stdout",
     "output_type": "stream",
     "text": [
      "<class 'pandas.core.frame.DataFrame'>\n",
      "RangeIndex: 149570 entries, 0 to 149569\n",
      "Data columns (total 10 columns):\n",
      " #   Column               Non-Null Count   Dtype  \n",
      "---  ------               --------------   -----  \n",
      " 0   isbn                 149570 non-null  object \n",
      " 1   book_title           149570 non-null  object \n",
      " 2   book_author          149570 non-null  object \n",
      " 3   year_of_publication  149570 non-null  float64\n",
      " 4   publisher            149570 non-null  object \n",
      " 5   img_url              149570 non-null  object \n",
      " 6   language             82343 non-null   object \n",
      " 7   category             80719 non-null   object \n",
      " 8   summary              82343 non-null   object \n",
      " 9   img_path             149570 non-null  object \n",
      "dtypes: float64(1), object(9)\n",
      "memory usage: 11.4+ MB\n"
     ]
    }
   ],
   "source": [
    "books.info()"
   ]
  },
  {
   "cell_type": "code",
   "execution_count": 124,
   "metadata": {},
   "outputs": [],
   "source": [
    "users['location_city'] = users['location'].apply(lambda x: x.split(',')[0])\n",
    "users['location_state'] = users['location'].apply(lambda x: x.split(',')[1])\n",
    "users['location_country'] = users['location'].apply(lambda x: x.split(',')[2])\n",
    "users = users.drop(['location'], axis=1)"
   ]
  },
  {
   "cell_type": "code",
   "execution_count": 125,
   "metadata": {},
   "outputs": [
    {
     "data": {
      "text/plain": [
       "347"
      ]
     },
     "execution_count": 125,
     "metadata": {},
     "output_type": "execute_result"
    }
   ],
   "source": [
    "len(users['location_country'].unique())"
   ]
  },
  {
   "cell_type": "code",
   "execution_count": 126,
   "metadata": {},
   "outputs": [
    {
     "data": {
      "text/plain": [
       " usa               43991\n",
       " canada             6208\n",
       " germany            3526\n",
       " united kingdom     2914\n",
       "                    2101\n",
       " australia          1791\n",
       " spain              1653\n",
       " france              794\n",
       " italy               770\n",
       " switzerland         451\n",
       " new zealand         448\n",
       " netherlands         403\n",
       " portugal            325\n",
       " austria             251\n",
       " malaysia            167\n",
       " singapore           129\n",
       " sweden              120\n",
       " ireland             107\n",
       " belgium             104\n",
       " brazil              103\n",
       " finland              89\n",
       " philippines          80\n",
       " argentina            77\n",
       " japan                74\n",
       " mexico               65\n",
       " denmark              61\n",
       " norway               54\n",
       " israel               48\n",
       " india                39\n",
       " romania              39\n",
       "Name: location_country, dtype: int64"
      ]
     },
     "execution_count": 126,
     "metadata": {},
     "output_type": "execute_result"
    }
   ],
   "source": [
    "users['location_country'].value_counts()[:30]"
   ]
  },
  {
   "cell_type": "code",
   "execution_count": 127,
   "metadata": {},
   "outputs": [],
   "source": [
    "users['location_city'] = users['location_city'].str.strip()\n",
    "users['location_state'] = users['location_state'].str.strip()\n",
    "users['location_country'] = users['location_country'].str.strip()"
   ]
  },
  {
   "cell_type": "code",
   "execution_count": 128,
   "metadata": {},
   "outputs": [],
   "source": [
    "users['location_city'] = users['location_city'].str.replace(r'[^a-zA-Z]', '', regex=True)\n",
    "users['location_state'] = users['location_state'].str.replace(r'[^a-zA-Z]', '', regex=True)\n",
    "users['location_country'] = users['location_country'].str.replace(r'[^a-zA-Z]', '', regex=True)"
   ]
  },
  {
   "cell_type": "code",
   "execution_count": 133,
   "metadata": {},
   "outputs": [
    {
     "data": {
      "text/plain": [
       "38517    espaa\n",
       "44469    espaa\n",
       "46596    espaa\n",
       "49959    espaa\n",
       "50002    espaa\n",
       "51605    espaa\n",
       "Name: location_country, dtype: object"
      ]
     },
     "execution_count": 133,
     "metadata": {},
     "output_type": "execute_result"
    }
   ],
   "source": [
    "users[users['location_country'].str.contains('esp')]['location_country']"
   ]
  },
  {
   "cell_type": "code",
   "execution_count": 130,
   "metadata": {},
   "outputs": [],
   "source": [
    "# australia\n",
    "users.loc[users['location_country'].str.contains('australia'), 'location_country'] = 'australia'\n",
    "# italy\n",
    "users.loc[users['location_country'].str.contains('ital'), 'location_country'] = 'italy'\n",
    "# germany\n",
    "users.loc[users['location_country'].str.contains('deut'), 'location_country'] = 'germany'\n",
    "users.loc[users['location_country'].str.contains('germ'), 'location_country'] = 'germany'\n",
    "# united kingdom\n",
    "users.loc[users['location_country'].str.contains('eng'), 'location_country'] = 'united kingdom'\n",
    "users.loc[users['location_country'].str.contains('king'), 'location_country'] = 'united kingdom'\n",
    "# france\n",
    "users.loc[users['location_country'].str.contains('fran'), 'location_country'] = 'france'\n",
    "# usa\n",
    "users.loc[users['location_country'].str.contains('america'), 'location_country'] = 'usa'\n",
    "users.loc[users['location_country'].str.contains('usa'), 'location_country'] = 'usa'\n",
    "users.loc[users['location_country'].str.contains('state'), 'location_country'] = 'usa'\n",
    "users.loc[users['location_country'].str.contains('sate'), 'location_country'] = 'usa'"
   ]
  },
  {
   "cell_type": "code",
   "execution_count": 131,
   "metadata": {},
   "outputs": [
    {
     "data": {
      "text/plain": [
       "usa               44010\n",
       "canada             6208\n",
       "germany            3536\n",
       "united kingdom     2951\n",
       "                   2111\n",
       "australia          1793\n",
       "spain              1661\n",
       "france              803\n",
       "italy               775\n",
       "switzerland         455\n",
       "newzealand          453\n",
       "netherlands         406\n",
       "portugal            329\n",
       "austria             251\n",
       "malaysia            167\n",
       "singapore           129\n",
       "sweden              121\n",
       "ireland             108\n",
       "belgium             104\n",
       "brazil              103\n",
       "finland              90\n",
       "philippines          81\n",
       "argentina            77\n",
       "japan                74\n",
       "mexico               66\n",
       "denmark              62\n",
       "norway               56\n",
       "israel               48\n",
       "southafrica          39\n",
       "romania              39\n",
       "Name: location_country, dtype: int64"
      ]
     },
     "execution_count": 131,
     "metadata": {},
     "output_type": "execute_result"
    }
   ],
   "source": [
    "users['location_country'].value_counts()[:30]"
   ]
  },
  {
   "cell_type": "code",
   "execution_count": 6,
   "metadata": {},
   "outputs": [
    {
     "data": {
      "text/html": [
       "<div>\n",
       "<style scoped>\n",
       "    .dataframe tbody tr th:only-of-type {\n",
       "        vertical-align: middle;\n",
       "    }\n",
       "\n",
       "    .dataframe tbody tr th {\n",
       "        vertical-align: top;\n",
       "    }\n",
       "\n",
       "    .dataframe thead th {\n",
       "        text-align: right;\n",
       "    }\n",
       "</style>\n",
       "<table border=\"1\" class=\"dataframe\">\n",
       "  <thead>\n",
       "    <tr style=\"text-align: right;\">\n",
       "      <th></th>\n",
       "      <th>user_id</th>\n",
       "      <th>isbn</th>\n",
       "      <th>rating</th>\n",
       "    </tr>\n",
       "  </thead>\n",
       "  <tbody>\n",
       "    <tr>\n",
       "      <th>0</th>\n",
       "      <td>8</td>\n",
       "      <td>0002005018</td>\n",
       "      <td>4</td>\n",
       "    </tr>\n",
       "  </tbody>\n",
       "</table>\n",
       "</div>"
      ],
      "text/plain": [
       "   user_id        isbn  rating\n",
       "0        8  0002005018       4"
      ]
     },
     "execution_count": 6,
     "metadata": {},
     "output_type": "execute_result"
    }
   ],
   "source": [
    "train.head(1)"
   ]
  },
  {
   "cell_type": "code",
   "execution_count": 7,
   "metadata": {},
   "outputs": [],
   "source": [
    "train_df = train.merge(users, on='user_id', how='left').merge(books, on='isbn', how='left')\n",
    "test_df = test.merge(users, on='user_id', how='left').merge(books, on='isbn', how='left')"
   ]
  },
  {
   "cell_type": "code",
   "execution_count": 12,
   "metadata": {},
   "outputs": [
    {
     "name": "stdout",
     "output_type": "stream",
     "text": [
      "<class 'pandas.core.frame.DataFrame'>\n",
      "Int64Index: 306795 entries, 0 to 306794\n",
      "Data columns (total 16 columns):\n",
      " #   Column               Non-Null Count   Dtype  \n",
      "---  ------               --------------   -----  \n",
      " 0   user_id              306795 non-null  int64  \n",
      " 1   isbn                 306795 non-null  object \n",
      " 2   rating               306795 non-null  int64  \n",
      " 3   age                  214133 non-null  float64\n",
      " 4   location_city        306795 non-null  object \n",
      " 5   location_state       306795 non-null  object \n",
      " 6   location_country     306795 non-null  object \n",
      " 7   book_title           306795 non-null  object \n",
      " 8   book_author          306795 non-null  object \n",
      " 9   year_of_publication  306795 non-null  float64\n",
      " 10  publisher            306795 non-null  object \n",
      " 11  img_url              306795 non-null  object \n",
      " 12  language             187711 non-null  object \n",
      " 13  category             185574 non-null  object \n",
      " 14  summary              187711 non-null  object \n",
      " 15  img_path             306795 non-null  object \n",
      "dtypes: float64(2), int64(2), object(12)\n",
      "memory usage: 39.8+ MB\n"
     ]
    }
   ],
   "source": [
    "train_df.info()"
   ]
  },
  {
   "cell_type": "code",
   "execution_count": 44,
   "metadata": {},
   "outputs": [
    {
     "data": {
      "text/html": [
       "<div>\n",
       "<style scoped>\n",
       "    .dataframe tbody tr th:only-of-type {\n",
       "        vertical-align: middle;\n",
       "    }\n",
       "\n",
       "    .dataframe tbody tr th {\n",
       "        vertical-align: top;\n",
       "    }\n",
       "\n",
       "    .dataframe thead th {\n",
       "        text-align: right;\n",
       "    }\n",
       "</style>\n",
       "<table border=\"1\" class=\"dataframe\">\n",
       "  <thead>\n",
       "    <tr style=\"text-align: right;\">\n",
       "      <th></th>\n",
       "      <th>user_id</th>\n",
       "      <th>isbn</th>\n",
       "      <th>rating</th>\n",
       "      <th>age</th>\n",
       "      <th>location_city</th>\n",
       "      <th>location_state</th>\n",
       "      <th>location_country</th>\n",
       "      <th>book_title</th>\n",
       "      <th>book_author</th>\n",
       "      <th>year_of_publication</th>\n",
       "      <th>publisher</th>\n",
       "      <th>img_url</th>\n",
       "      <th>language</th>\n",
       "      <th>category</th>\n",
       "      <th>summary</th>\n",
       "      <th>img_path</th>\n",
       "    </tr>\n",
       "  </thead>\n",
       "  <tbody>\n",
       "    <tr>\n",
       "      <th>175</th>\n",
       "      <td>12863</td>\n",
       "      <td>0452264464</td>\n",
       "      <td>9</td>\n",
       "      <td>29.0</td>\n",
       "      <td>london</td>\n",
       "      <td>england</td>\n",
       "      <td>united kingdom</td>\n",
       "      <td>Beloved (Plume Contemporary Fiction)</td>\n",
       "      <td>Toni Morrison</td>\n",
       "      <td>1994.0</td>\n",
       "      <td>Plume</td>\n",
       "      <td>http://images.amazon.com/images/P/0452264464.0...</td>\n",
       "      <td>en</td>\n",
       "      <td>['Fiction']</td>\n",
       "      <td>Staring unflinchingly into the abyss of slaver...</td>\n",
       "      <td>images/0452264464.01.THUMBZZZ.jpg</td>\n",
       "    </tr>\n",
       "  </tbody>\n",
       "</table>\n",
       "</div>"
      ],
      "text/plain": [
       "     user_id        isbn  rating   age location_city location_state  \\\n",
       "175    12863  0452264464       9  29.0        london        england   \n",
       "\n",
       "    location_country                            book_title    book_author  \\\n",
       "175   united kingdom  Beloved (Plume Contemporary Fiction)  Toni Morrison   \n",
       "\n",
       "     year_of_publication publisher  \\\n",
       "175               1994.0     Plume   \n",
       "\n",
       "                                               img_url language     category  \\\n",
       "175  http://images.amazon.com/images/P/0452264464.0...       en  ['Fiction']   \n",
       "\n",
       "                                               summary  \\\n",
       "175  Staring unflinchingly into the abyss of slaver...   \n",
       "\n",
       "                              img_path  \n",
       "175  images/0452264464.01.THUMBZZZ.jpg  "
      ]
     },
     "execution_count": 44,
     "metadata": {},
     "output_type": "execute_result"
    }
   ],
   "source": [
    "train_df[train_df['location_city'] == 'london'].head(1)"
   ]
  },
  {
   "cell_type": "code",
   "execution_count": 47,
   "metadata": {},
   "outputs": [
    {
     "data": {
      "text/plain": [
       "Series([], Name: location_state, dtype: object)"
      ]
     },
     "execution_count": 47,
     "metadata": {},
     "output_type": "execute_result"
    }
   ],
   "source": [
    "train_df[train_df['location_country'] == 'canada']['location_state']#.value_counts().head(20)"
   ]
  },
  {
   "cell_type": "code",
   "execution_count": 19,
   "metadata": {},
   "outputs": [
    {
     "data": {
      "text/plain": [
       " california          28888\n",
       " ontario             12979\n",
       " texas               12253\n",
       " new york            10557\n",
       " georgia             10537\n",
       " n/a                  9050\n",
       " florida              8868\n",
       " illinois             8393\n",
       " washington           8077\n",
       " pennsylvania         8032\n",
       " england              7370\n",
       " missouri             7326\n",
       "                      6919\n",
       " ohio                 6761\n",
       " virginia             6716\n",
       " oregon               6207\n",
       " new jersey           5969\n",
       " michigan             5764\n",
       " british columbia     5360\n",
       " north carolina       5100\n",
       "Name: location_state, dtype: int64"
      ]
     },
     "execution_count": 19,
     "metadata": {},
     "output_type": "execute_result"
    }
   ],
   "source": [
    "train_df['location_state'].value_counts().head(20)"
   ]
  },
  {
   "cell_type": "code",
   "execution_count": null,
   "metadata": {},
   "outputs": [],
   "source": [
    "train_df['']"
   ]
  },
  {
   "cell_type": "code",
   "execution_count": null,
   "metadata": {},
   "outputs": [],
   "source": [
    "fig, ax = plt.subplots(3,5,figsize=(20,8))\n",
    "for country, ax_ in zip(f['location_country'], ax.flatten()):\n",
    "    users[(users['location_country']==country)]['age'].value_counts().sort_index().plot(ax=ax_, title=country)\n",
    "plt.xlim(0,100)\n",
    "plt.tight_layout()\n",
    "plt.show()"
   ]
  }
 ],
 "metadata": {
  "kernelspec": {
   "display_name": "Python 3.8.5 ('base')",
   "language": "python",
   "name": "python3"
  },
  "language_info": {
   "codemirror_mode": {
    "name": "ipython",
    "version": 3
   },
   "file_extension": ".py",
   "mimetype": "text/x-python",
   "name": "python",
   "nbconvert_exporter": "python",
   "pygments_lexer": "ipython3",
   "version": "3.8.5"
  },
  "orig_nbformat": 4,
  "vscode": {
   "interpreter": {
    "hash": "d4d1e4263499bec80672ea0156c357c1ee493ec2b1c70f0acce89fc37c4a6abe"
   }
  }
 },
 "nbformat": 4,
 "nbformat_minor": 2
}
