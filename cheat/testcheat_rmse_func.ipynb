{
 "cells": [
  {
   "cell_type": "markdown",
   "id": "fa1ffcaa-e805-4bc4-bb9e-30b679946f08",
   "metadata": {},
   "source": [
    "## 사용방법 정리"
   ]
  },
  {
   "cell_type": "code",
   "execution_count": 14,
   "id": "8f26aaf2-c599-40ff-a206-419318620d51",
   "metadata": {},
   "outputs": [],
   "source": [
    "import pandas as pd\n",
    "from sklearn.metrics import mean_squared_error\n",
    "##check cheat 의 줄임말\n",
    "def cc(filename):\n",
    "    notnull_cheat = pd.read_csv(\"small_test_cheat.csv\")\n",
    "    fm = pd.read_csv(f\"{filename}\", index_col=0) #model load\n",
    "    notnull_cheat = notnull_cheat.merge(fm, how = 'left', left_on=['user_id', 'isbn'], right_on = ['user_id','isbn'])\n",
    "    return mean_squared_error(notnull_cheat['rating_y'], notnull_cheat['rating'])**0.5 #rmse 측정\n",
    "\n",
    "#0.04 오차범위"
   ]
  },
  {
   "cell_type": "code",
   "execution_count": 9,
   "id": "1d6cd86e",
   "metadata": {},
   "outputs": [
    {
     "data": {
      "text/plain": [
       "1.838050237802567"
      ]
     },
     "execution_count": 9,
     "metadata": {},
     "output_type": "execute_result"
    }
   ],
   "source": [
    "cc('../catboost_ed3_feature_add.csv')"
   ]
  },
  {
   "cell_type": "code",
   "execution_count": 16,
   "id": "ec9771cc",
   "metadata": {},
   "outputs": [
    {
     "data": {
      "text/plain": [
       "1.838050237802567"
      ]
     },
     "execution_count": 16,
     "metadata": {},
     "output_type": "execute_result"
    }
   ],
   "source": [
    "cc('../submit/catboost_ed3_feature_add.csv')"
   ]
  },
  {
   "cell_type": "code",
   "execution_count": 17,
   "id": "e3c4f0f9",
   "metadata": {},
   "outputs": [
    {
     "data": {
      "text/plain": [
       "1.849597257315021"
      ]
     },
     "execution_count": 17,
     "metadata": {},
     "output_type": "execute_result"
    }
   ],
   "source": [
    "cc('../submit/catboost.csv')"
   ]
  },
  {
   "cell_type": "code",
   "execution_count": 22,
   "id": "d94ee0ce",
   "metadata": {},
   "outputs": [],
   "source": [
    "notnull_cheat = pd.read_csv(\"small_test_cheat.csv\")"
   ]
  },
  {
   "cell_type": "code",
   "execution_count": 24,
   "id": "f5e8bfb5",
   "metadata": {},
   "outputs": [],
   "source": [
    "output = pd.read_csv(\"../submit/output (1).csv\")"
   ]
  },
  {
   "cell_type": "code",
   "execution_count": 27,
   "id": "9e6f2962",
   "metadata": {},
   "outputs": [
    {
     "data": {
      "text/html": [
       "<div>\n",
       "<style scoped>\n",
       "    .dataframe tbody tr th:only-of-type {\n",
       "        vertical-align: middle;\n",
       "    }\n",
       "\n",
       "    .dataframe tbody tr th {\n",
       "        vertical-align: top;\n",
       "    }\n",
       "\n",
       "    .dataframe thead th {\n",
       "        text-align: right;\n",
       "    }\n",
       "</style>\n",
       "<table border=\"1\" class=\"dataframe\">\n",
       "  <thead>\n",
       "    <tr style=\"text-align: right;\">\n",
       "      <th></th>\n",
       "      <th>mean</th>\n",
       "      <th>count</th>\n",
       "      <th>std</th>\n",
       "    </tr>\n",
       "  </thead>\n",
       "  <tbody>\n",
       "    <tr>\n",
       "      <th>count</th>\n",
       "      <td>26167.000000</td>\n",
       "      <td>26167.000000</td>\n",
       "      <td>9382.000000</td>\n",
       "    </tr>\n",
       "    <tr>\n",
       "      <th>mean</th>\n",
       "      <td>6.816846</td>\n",
       "      <td>2.931135</td>\n",
       "      <td>0.400166</td>\n",
       "    </tr>\n",
       "    <tr>\n",
       "      <th>std</th>\n",
       "      <td>1.053081</td>\n",
       "      <td>13.415821</td>\n",
       "      <td>0.285096</td>\n",
       "    </tr>\n",
       "    <tr>\n",
       "      <th>min</th>\n",
       "      <td>2.017382</td>\n",
       "      <td>1.000000</td>\n",
       "      <td>0.000000</td>\n",
       "    </tr>\n",
       "    <tr>\n",
       "      <th>25%</th>\n",
       "      <td>6.528424</td>\n",
       "      <td>1.000000</td>\n",
       "      <td>0.200889</td>\n",
       "    </tr>\n",
       "    <tr>\n",
       "      <th>50%</th>\n",
       "      <td>7.002845</td>\n",
       "      <td>1.000000</td>\n",
       "      <td>0.362271</td>\n",
       "    </tr>\n",
       "    <tr>\n",
       "      <th>75%</th>\n",
       "      <td>7.306225</td>\n",
       "      <td>2.000000</td>\n",
       "      <td>0.537098</td>\n",
       "    </tr>\n",
       "    <tr>\n",
       "      <th>max</th>\n",
       "      <td>9.564485</td>\n",
       "      <td>1419.000000</td>\n",
       "      <td>2.666532</td>\n",
       "    </tr>\n",
       "  </tbody>\n",
       "</table>\n",
       "</div>"
      ],
      "text/plain": [
       "               mean         count          std\n",
       "count  26167.000000  26167.000000  9382.000000\n",
       "mean       6.816846      2.931135     0.400166\n",
       "std        1.053081     13.415821     0.285096\n",
       "min        2.017382      1.000000     0.000000\n",
       "25%        6.528424      1.000000     0.200889\n",
       "50%        7.002845      1.000000     0.362271\n",
       "75%        7.306225      2.000000     0.537098\n",
       "max        9.564485   1419.000000     2.666532"
      ]
     },
     "execution_count": 27,
     "metadata": {},
     "output_type": "execute_result"
    }
   ],
   "source": [
    "output.groupby(['user_id'])['rating'].agg(['mean', 'count', 'std']).describe()"
   ]
  },
  {
   "cell_type": "code",
   "execution_count": 28,
   "id": "65d32027",
   "metadata": {},
   "outputs": [
    {
     "data": {
      "text/html": [
       "<div>\n",
       "<style scoped>\n",
       "    .dataframe tbody tr th:only-of-type {\n",
       "        vertical-align: middle;\n",
       "    }\n",
       "\n",
       "    .dataframe tbody tr th {\n",
       "        vertical-align: top;\n",
       "    }\n",
       "\n",
       "    .dataframe thead th {\n",
       "        text-align: right;\n",
       "    }\n",
       "</style>\n",
       "<table border=\"1\" class=\"dataframe\">\n",
       "  <thead>\n",
       "    <tr style=\"text-align: right;\">\n",
       "      <th></th>\n",
       "      <th>mean</th>\n",
       "      <th>count</th>\n",
       "      <th>std</th>\n",
       "    </tr>\n",
       "  </thead>\n",
       "  <tbody>\n",
       "    <tr>\n",
       "      <th>count</th>\n",
       "      <td>52000.000000</td>\n",
       "      <td>52000.000000</td>\n",
       "      <td>7696.000000</td>\n",
       "    </tr>\n",
       "    <tr>\n",
       "      <th>mean</th>\n",
       "      <td>6.874573</td>\n",
       "      <td>1.474981</td>\n",
       "      <td>0.845376</td>\n",
       "    </tr>\n",
       "    <tr>\n",
       "      <th>std</th>\n",
       "      <td>1.167297</td>\n",
       "      <td>2.359290</td>\n",
       "      <td>0.594243</td>\n",
       "    </tr>\n",
       "    <tr>\n",
       "      <th>min</th>\n",
       "      <td>1.940978</td>\n",
       "      <td>1.000000</td>\n",
       "      <td>0.000000</td>\n",
       "    </tr>\n",
       "    <tr>\n",
       "      <th>25%</th>\n",
       "      <td>6.395960</td>\n",
       "      <td>1.000000</td>\n",
       "      <td>0.429178</td>\n",
       "    </tr>\n",
       "    <tr>\n",
       "      <th>50%</th>\n",
       "      <td>7.010095</td>\n",
       "      <td>1.000000</td>\n",
       "      <td>0.746136</td>\n",
       "    </tr>\n",
       "    <tr>\n",
       "      <th>75%</th>\n",
       "      <td>7.624298</td>\n",
       "      <td>1.000000</td>\n",
       "      <td>1.123912</td>\n",
       "    </tr>\n",
       "    <tr>\n",
       "      <th>max</th>\n",
       "      <td>9.606332</td>\n",
       "      <td>141.000000</td>\n",
       "      <td>4.204388</td>\n",
       "    </tr>\n",
       "  </tbody>\n",
       "</table>\n",
       "</div>"
      ],
      "text/plain": [
       "               mean         count          std\n",
       "count  52000.000000  52000.000000  7696.000000\n",
       "mean       6.874573      1.474981     0.845376\n",
       "std        1.167297      2.359290     0.594243\n",
       "min        1.940978      1.000000     0.000000\n",
       "25%        6.395960      1.000000     0.429178\n",
       "50%        7.010095      1.000000     0.746136\n",
       "75%        7.624298      1.000000     1.123912\n",
       "max        9.606332    141.000000     4.204388"
      ]
     },
     "execution_count": 28,
     "metadata": {},
     "output_type": "execute_result"
    }
   ],
   "source": [
    "output.groupby(['isbn'])['rating'].agg(['mean', 'count', 'std']).describe()"
   ]
  },
  {
   "cell_type": "code",
   "execution_count": 29,
   "id": "d19630c1",
   "metadata": {},
   "outputs": [],
   "source": [
    "best = pd.read_csv(\"../submit/output (4).csv\")"
   ]
  },
  {
   "cell_type": "code",
   "execution_count": 30,
   "id": "90809ff9",
   "metadata": {},
   "outputs": [
    {
     "data": {
      "text/html": [
       "<div>\n",
       "<style scoped>\n",
       "    .dataframe tbody tr th:only-of-type {\n",
       "        vertical-align: middle;\n",
       "    }\n",
       "\n",
       "    .dataframe tbody tr th {\n",
       "        vertical-align: top;\n",
       "    }\n",
       "\n",
       "    .dataframe thead th {\n",
       "        text-align: right;\n",
       "    }\n",
       "</style>\n",
       "<table border=\"1\" class=\"dataframe\">\n",
       "  <thead>\n",
       "    <tr style=\"text-align: right;\">\n",
       "      <th></th>\n",
       "      <th>mean</th>\n",
       "      <th>count</th>\n",
       "      <th>std</th>\n",
       "    </tr>\n",
       "  </thead>\n",
       "  <tbody>\n",
       "    <tr>\n",
       "      <th>count</th>\n",
       "      <td>52000.000000</td>\n",
       "      <td>52000.000000</td>\n",
       "      <td>7696.000000</td>\n",
       "    </tr>\n",
       "    <tr>\n",
       "      <th>mean</th>\n",
       "      <td>6.917718</td>\n",
       "      <td>1.474981</td>\n",
       "      <td>0.762925</td>\n",
       "    </tr>\n",
       "    <tr>\n",
       "      <th>std</th>\n",
       "      <td>1.095549</td>\n",
       "      <td>2.359290</td>\n",
       "      <td>0.529779</td>\n",
       "    </tr>\n",
       "    <tr>\n",
       "      <th>min</th>\n",
       "      <td>1.850597</td>\n",
       "      <td>1.000000</td>\n",
       "      <td>0.000000</td>\n",
       "    </tr>\n",
       "    <tr>\n",
       "      <th>25%</th>\n",
       "      <td>6.430186</td>\n",
       "      <td>1.000000</td>\n",
       "      <td>0.387940</td>\n",
       "    </tr>\n",
       "    <tr>\n",
       "      <th>50%</th>\n",
       "      <td>7.030792</td>\n",
       "      <td>1.000000</td>\n",
       "      <td>0.677727</td>\n",
       "    </tr>\n",
       "    <tr>\n",
       "      <th>75%</th>\n",
       "      <td>7.628330</td>\n",
       "      <td>1.000000</td>\n",
       "      <td>1.018985</td>\n",
       "    </tr>\n",
       "    <tr>\n",
       "      <th>max</th>\n",
       "      <td>9.710387</td>\n",
       "      <td>141.000000</td>\n",
       "      <td>3.819754</td>\n",
       "    </tr>\n",
       "  </tbody>\n",
       "</table>\n",
       "</div>"
      ],
      "text/plain": [
       "               mean         count          std\n",
       "count  52000.000000  52000.000000  7696.000000\n",
       "mean       6.917718      1.474981     0.762925\n",
       "std        1.095549      2.359290     0.529779\n",
       "min        1.850597      1.000000     0.000000\n",
       "25%        6.430186      1.000000     0.387940\n",
       "50%        7.030792      1.000000     0.677727\n",
       "75%        7.628330      1.000000     1.018985\n",
       "max        9.710387    141.000000     3.819754"
      ]
     },
     "execution_count": 30,
     "metadata": {},
     "output_type": "execute_result"
    }
   ],
   "source": [
    "best.groupby(['isbn'])['rating'].agg(['mean', 'count', 'std']).describe()"
   ]
  },
  {
   "cell_type": "code",
   "execution_count": 32,
   "id": "7682feb1",
   "metadata": {},
   "outputs": [
    {
     "data": {
      "text/html": [
       "<div>\n",
       "<style scoped>\n",
       "    .dataframe tbody tr th:only-of-type {\n",
       "        vertical-align: middle;\n",
       "    }\n",
       "\n",
       "    .dataframe tbody tr th {\n",
       "        vertical-align: top;\n",
       "    }\n",
       "\n",
       "    .dataframe thead th {\n",
       "        text-align: right;\n",
       "    }\n",
       "</style>\n",
       "<table border=\"1\" class=\"dataframe\">\n",
       "  <thead>\n",
       "    <tr style=\"text-align: right;\">\n",
       "      <th></th>\n",
       "      <th>mean</th>\n",
       "      <th>count</th>\n",
       "      <th>std</th>\n",
       "    </tr>\n",
       "  </thead>\n",
       "  <tbody>\n",
       "    <tr>\n",
       "      <th>count</th>\n",
       "      <td>13179.000000</td>\n",
       "      <td>13179.000000</td>\n",
       "      <td>4316.000000</td>\n",
       "    </tr>\n",
       "    <tr>\n",
       "      <th>mean</th>\n",
       "      <td>7.654394</td>\n",
       "      <td>1.920252</td>\n",
       "      <td>1.436594</td>\n",
       "    </tr>\n",
       "    <tr>\n",
       "      <th>std</th>\n",
       "      <td>1.605593</td>\n",
       "      <td>2.542866</td>\n",
       "      <td>0.917297</td>\n",
       "    </tr>\n",
       "    <tr>\n",
       "      <th>min</th>\n",
       "      <td>1.000000</td>\n",
       "      <td>1.000000</td>\n",
       "      <td>0.000000</td>\n",
       "    </tr>\n",
       "    <tr>\n",
       "      <th>25%</th>\n",
       "      <td>7.000000</td>\n",
       "      <td>1.000000</td>\n",
       "      <td>0.707107</td>\n",
       "    </tr>\n",
       "    <tr>\n",
       "      <th>50%</th>\n",
       "      <td>8.000000</td>\n",
       "      <td>1.000000</td>\n",
       "      <td>1.414214</td>\n",
       "    </tr>\n",
       "    <tr>\n",
       "      <th>75%</th>\n",
       "      <td>9.000000</td>\n",
       "      <td>2.000000</td>\n",
       "      <td>2.081666</td>\n",
       "    </tr>\n",
       "    <tr>\n",
       "      <th>max</th>\n",
       "      <td>10.000000</td>\n",
       "      <td>53.000000</td>\n",
       "      <td>5.656854</td>\n",
       "    </tr>\n",
       "  </tbody>\n",
       "</table>\n",
       "</div>"
      ],
      "text/plain": [
       "               mean         count          std\n",
       "count  13179.000000  13179.000000  4316.000000\n",
       "mean       7.654394      1.920252     1.436594\n",
       "std        1.605593      2.542866     0.917297\n",
       "min        1.000000      1.000000     0.000000\n",
       "25%        7.000000      1.000000     0.707107\n",
       "50%        8.000000      1.000000     1.414214\n",
       "75%        9.000000      2.000000     2.081666\n",
       "max       10.000000     53.000000     5.656854"
      ]
     },
     "execution_count": 32,
     "metadata": {},
     "output_type": "execute_result"
    }
   ],
   "source": [
    "notnull_cheat.groupby(['isbn'])['rating_y'].agg(['mean', 'count', 'std']).describe()"
   ]
  },
  {
   "cell_type": "code",
   "execution_count": null,
   "id": "1bc97638",
   "metadata": {},
   "outputs": [],
   "source": []
  }
 ],
 "metadata": {
  "kernelspec": {
   "display_name": "Python 3.8.5 ('base')",
   "language": "python",
   "name": "python3"
  },
  "language_info": {
   "codemirror_mode": {
    "name": "ipython",
    "version": 3
   },
   "file_extension": ".py",
   "mimetype": "text/x-python",
   "name": "python",
   "nbconvert_exporter": "python",
   "pygments_lexer": "ipython3",
   "version": "3.8.5"
  },
  "vscode": {
   "interpreter": {
    "hash": "d4d1e4263499bec80672ea0156c357c1ee493ec2b1c70f0acce89fc37c4a6abe"
   }
  }
 },
 "nbformat": 4,
 "nbformat_minor": 5
}
