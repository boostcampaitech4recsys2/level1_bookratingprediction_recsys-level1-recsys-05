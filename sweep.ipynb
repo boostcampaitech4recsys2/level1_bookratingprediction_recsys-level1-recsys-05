{
 "cells": [
  {
   "cell_type": "code",
   "execution_count": 59,
   "metadata": {},
   "outputs": [
    {
     "data": {
      "text/plain": [
       "{'program': 'model.train',\n",
       " 'method': 'bayes',\n",
       " 'metric': {'name': 'rmse', 'goal': 'minimize'},\n",
       " 'parameters': {'learning_rate': {'min': 0.001, 'max': 0.1},\n",
       "  'optimizer': {'values': ['adam', 'sgd']},\n",
       "  'epoch': {'min': 5, 'max': 20}}}"
      ]
     },
     "metadata": {},
     "output_type": "display_data"
    }
   ],
   "source": [
    "import yaml\n",
    "import wandb\n",
    "import time\n",
    "\n",
    "import pandas as pd\n",
    "with open('config/sweep.yaml') as f:\n",
    "    sweep_config = yaml.load(f, Loader=yaml.FullLoader)\n",
    "display(sweep_config)\n"
   ]
  },
  {
   "cell_type": "code",
   "execution_count": 60,
   "metadata": {},
   "outputs": [],
   "source": [
    "with open('config/config.yaml') as f:\n",
    "    default_config = yaml.load(f, Loader=yaml.FullLoader)\n",
    "#display(default_config)"
   ]
  },
  {
   "cell_type": "code",
   "execution_count": 61,
   "metadata": {},
   "outputs": [
    {
     "name": "stdout",
     "output_type": "stream",
     "text": [
      "<class 'str'>\n",
      "1e-06\n",
      "<class 'float'>\n",
      "1e-06\n"
     ]
    }
   ],
   "source": [
    "import easydict\n",
    " \n",
    "args = easydict.EasyDict(default_config)\n",
    "\n",
    "print(type(args.WEIGHT_DECAY))\n",
    "print(args.WEIGHT_DECAY)\n",
    "args.WEIGHT_DECAY = float(args.WEIGHT_DECAY)\n",
    "print(type(args.WEIGHT_DECAY))\n",
    "print(args.WEIGHT_DECAY)\n",
    "################# 돌릴 모델 바꾸려면 여기서\n",
    "args.MODEL = \"FM\""
   ]
  },
  {
   "cell_type": "code",
   "execution_count": 62,
   "metadata": {},
   "outputs": [
    {
     "data": {
      "text/plain": [
       "'\\nconfig={\\n            \"epochs\": args.EPOCHS,\\n            \"batch_size\": args.BATCH_SIZE,\\n            \"lr\": args.LR,\\n            \"emb_dim\": 16\\n            }\\n\\n            '"
      ]
     },
     "execution_count": 62,
     "metadata": {},
     "output_type": "execute_result"
    }
   ],
   "source": [
    "\"\"\"\n",
    "config={\n",
    "            \"epochs\": args.EPOCHS,\n",
    "            \"batch_size\": args.BATCH_SIZE,\n",
    "            \"lr\": args.LR,\n",
    "            \"emb_dim\": 16\n",
    "            }\n",
    "\n",
    "            \"\"\""
   ]
  },
  {
   "cell_type": "code",
   "execution_count": 63,
   "metadata": {},
   "outputs": [
    {
     "data": {
      "text/plain": [
       "'\\nwandb.init(\\n        project=\"seongjae_exp_sweep\", \\n        entity=\"boostcamp_l1_recsys05\",\\n        name=f\"experiment_{args.MODEL}\", \\n        # Track hyperparameters and run metadata\\n        config=config)'"
      ]
     },
     "execution_count": 63,
     "metadata": {},
     "output_type": "execute_result"
    }
   ],
   "source": [
    "\"\"\"\n",
    "wandb.init(\n",
    "        project=\"seongjae_exp_sweep\", \n",
    "        entity=\"boostcamp_l1_recsys05\",\n",
    "        name=f\"experiment_{args.MODEL}\", \n",
    "        # Track hyperparameters and run metadata\n",
    "        config=config)\"\"\"\n",
    "        "
   ]
  },
  {
   "cell_type": "code",
   "execution_count": null,
   "metadata": {},
   "outputs": [],
   "source": []
  },
  {
   "cell_type": "markdown",
   "metadata": {},
   "source": [
    "MAIN.PY  모델 도입부"
   ]
  },
  {
   "cell_type": "code",
   "execution_count": 64,
   "metadata": {},
   "outputs": [],
   "source": [
    "from src import (CNN_FM, DeepCoNN, DeepCrossNetworkModel,\n",
    "                 FactorizationMachineModel,\n",
    "                 FieldAwareFactorizationMachineModel,\n",
    "                 NeuralCollaborativeFiltering, WideAndDeepModel,\n",
    "                 seed_everything)\n",
    "from src.data import (context_data_load, context_data_loader,\n",
    "                      context_data_split, dl_data_load, dl_data_loader,\n",
    "                      dl_data_split, image_data_load, image_data_loader,\n",
    "                      image_data_split, text_data_load, text_data_loader,\n",
    "                      text_data_split)"
   ]
  },
  {
   "cell_type": "code",
   "execution_count": 65,
   "metadata": {},
   "outputs": [
    {
     "name": "stdout",
     "output_type": "stream",
     "text": [
      "--------------- FM Load Data ---------------\n"
     ]
    }
   ],
   "source": [
    "######################## DATA LOAD\n",
    "print(f'--------------- {args.MODEL} Load Data ---------------')\n",
    "if args.MODEL in ('FM', 'FFM'):\n",
    "    data = context_data_load(args)\n",
    "elif args.MODEL in ('NCF', 'WDN', 'DCN'):\n",
    "    data = dl_data_load(args)\n",
    "elif args.MODEL == 'CNN_FM':\n",
    "    data = image_data_load(args)\n",
    "elif args.MODEL == 'DeepCoNN':\n",
    "    import nltk\n",
    "    nltk.download('punkt')\n",
    "    data = text_data_load(args)\n",
    "else:\n",
    "    pass\n",
    "\n",
    "######################## Train/Valid Split\n",
    "print(f'--------------- {args.MODEL} Train/Valid Split ---------------')\n",
    "if args.MODEL in ('FM', 'FFM'):\n",
    "    data = context_data_split(args, data)\n",
    "    data = context_data_loader(args, data)\n",
    "elif args.MODEL in ('NCF', 'WDN', 'DCN'):\n",
    "    data = dl_data_split(args, data)\n",
    "    data = dl_data_loader(args, data)\n",
    "elif args.MODEL=='CNN_FM':\n",
    "    data = image_data_split(args, data)\n",
    "    data = image_data_loader(args, data)\n",
    "elif args.MODEL=='DeepCoNN':\n",
    "    data = text_data_split(args, data)\n",
    "    data = text_data_loader(args, data)\n",
    "else:\n",
    "    pass\n",
    "data"
   ]
  },
  {
   "cell_type": "code",
   "execution_count": null,
   "metadata": {},
   "outputs": [],
   "source": [
    "def sweep(args, data):\n",
    "    ######################## Model\n",
    "    wandb.init(project=\"sweep_tmp\")\n",
    "    print(f'--------------- INIT {args.MODEL} ---------------')\n",
    "    if args.MODEL=='FM':\n",
    "        print(\"wandb.config.emb_dim = \", wandb.config.emb_dim)\n",
    "        print(type(wandb.config.emb_dim))\n",
    "        args.FM_EMBED_DIM = wandb.config.emb_dim\n",
    "        model = FactorizationMachineModel(args, data)\n",
    "    elif args.MODEL=='FFM':\n",
    "        args.FFM_EMBED_DIM = wandb.config.emb_dim\n",
    "        model = FieldAwareFactorizationMachineModel(args, data)\n",
    "    elif args.MODEL=='NCF':\n",
    "        args.NCF_EMBED_DIM = wandb.config.emb_dim\n",
    "        model = NeuralCollaborativeFiltering(args, data)\n",
    "    elif args.MODEL=='WDN':\n",
    "        args.WDN_EMBED_DIM = wandb.config.emb_dim\n",
    "        model = WideAndDeepModel(args, data)\n",
    "    elif args.MODEL=='DCN':\n",
    "        args.DCN_EMBED_DIM = wandb.config.emb_dim\n",
    "        model = DeepCrossNetworkModel(args, data)\n",
    "    elif args.MODEL=='CNN_FM':\n",
    "        args.CNN_FM_EMBED_DIM = wandb.config.emb_dim\n",
    "        model = CNN_FM(args, data)\n",
    "    elif args.MODEL=='DeepCoNN':\n",
    "        args.DEEPCONN_EMBED_DIM = wandb.config.emb_dim\n",
    "        model = DeepCoNN(args, data)\n",
    "    else:\n",
    "        pass\n",
    "\n",
    "    #wandb.config.update(args)\n",
    "    # wandb.watch(model)\n",
    "    ######################## TRAIN\n",
    "    print(f'--------------- {args.MODEL} TRAINING ---------------')\n",
    "    rmse = model.train()\n",
    "    \n",
    "    ######################## INFERENCE\n",
    "    print(f'--------------- {args.MODEL} PREDICT ---------------')\n",
    "    if args.MODEL in ('FM', 'FFM', 'NCF', 'WDN', 'DCN'):\n",
    "        predicts = model.predict(data['test_dataloader'])\n",
    "    elif args.MODEL=='CNN_FM':\n",
    "        predicts  = model.predict(data['test_dataloader'])\n",
    "    elif args.MODEL=='DeepCoNN':\n",
    "        predicts  = model.predict(data['test_dataloader'])\n",
    "    else:\n",
    "        pass\n",
    "    \n",
    "    ######################## PREDICT GET IN RANGE\n",
    "    def adjust_predict(y):\n",
    "        if y < 1.0:\n",
    "            return 1.0\n",
    "        elif y > 10.0:\n",
    "            return 10.0\n",
    "        return y\n",
    "    \n",
    "    predicts = list(map(adjust_predict, predicts))\n",
    "\n",
    "    ######################## SAVE PREDICT\n",
    "    print(f'--------------- SAVE {args.MODEL} PREDICT ---------------')\n",
    "    submission = pd.read_csv(args.DATA_PATH + 'sample_submission.csv')\n",
    "    if args.MODEL in ('FM', 'FFM', 'NCF', 'WDN', 'DCN', 'CNN_FM', 'DeepCoNN'):\n",
    "        submission['rating'] = predicts\n",
    "    else:\n",
    "        pass\n",
    "    train1 = pd.read_csv('./data/train_ratings.csv')\n",
    "\n",
    "    count=train1.groupby(\"user_id\").size()\n",
    "    dfcount = pd.DataFrame(count, columns=[\"count\"])\n",
    "    submission=pd.merge(submission,dfcount, how='left', on='user_id')\n",
    "    submission['count'] = submission['count'].fillna(0)\n",
    "    submission.set_index(\"user_id\",inplace = True)\n",
    "\n",
    "    for row in submission.itertuples():\n",
    "        if row[3] == 0 :\n",
    "            submission.at[row[0],\"rating\"] = 7\n",
    "\n",
    "    submission = submission.reset_index()\n",
    "    submission = submission.drop(['count'], axis=1)\n",
    "\n",
    "\n",
    "    now = time.localtime()\n",
    "    now_date = time.strftime('%Y%m%d', now)\n",
    "    now_hour = time.strftime('%X', now)\n",
    "    save_time = now_date + '_' + now_hour.replace(':', '')\n",
    "    submission.to_csv('submit/{}_{}_{}.csv'.format(save_time, args.MODEL, round(rmse, 5), index=False))\n",
    "    "
   ]
  },
  {
   "cell_type": "code",
   "execution_count": null,
   "metadata": {},
   "outputs": [],
   "source": [
    "sweep_configuration = {\n",
    "    'method': 'bayes',\n",
    "    'name': 'sweep',\n",
    "    'metric': {'goal': 'minimize', 'name': 'rmse'}, \n",
    "    'parameters':{\n",
    "        'emb_dim':{'max': 32, 'min': 8  }\n",
    "        }}\n",
    "\n"
   ]
  },
  {
   "cell_type": "code",
   "execution_count": null,
   "metadata": {},
   "outputs": [],
   "source": [
    "config={\n",
    "            \"epochs\": args.EPOCHS,\n",
    "            \"batch_size\": args.BATCH_SIZE,\n",
    "            \"lr\": args.LR,\n",
    "            \"emb_dim\": 16\n",
    "            }\n",
    "\n"
   ]
  },
  {
   "cell_type": "code",
   "execution_count": null,
   "metadata": {},
   "outputs": [
    {
     "data": {
      "text/plain": [
       "True"
      ]
     },
     "execution_count": 53,
     "metadata": {},
     "output_type": "execute_result"
    }
   ],
   "source": [
    "wandb.login()"
   ]
  },
  {
   "cell_type": "code",
   "execution_count": null,
   "metadata": {},
   "outputs": [
    {
     "data": {
      "text/html": [
       "Changes to your `wandb` environment variables will be ignored because your `wandb` session has already started. For more information on how to modify your settings with `wandb.init()` arguments, please refer to <a href=\"https://wandb.me/wandb-init\" target=\"_blank\">the W&B docs</a>."
      ],
      "text/plain": [
       "<IPython.core.display.HTML object>"
      ]
     },
     "metadata": {},
     "output_type": "display_data"
    },
    {
     "name": "stdout",
     "output_type": "stream",
     "text": [
      "Problem at: /tmp/ipykernel_74153/933464639.py 1 <module>\n"
     ]
    },
    {
     "name": "stderr",
     "output_type": "stream",
     "text": [
      "Traceback (most recent call last):\n",
      "  File \"/opt/conda/lib/python3.8/site-packages/wandb/sdk/wandb_init.py\", line 1078, in init\n",
      "    run = wi.init()\n",
      "  File \"/opt/conda/lib/python3.8/site-packages/wandb/sdk/wandb_init.py\", line 574, in init\n",
      "    manager._inform_init(settings=self.settings, run_id=self.settings.run_id)\n",
      "  File \"/opt/conda/lib/python3.8/site-packages/wandb/sdk/wandb_manager.py\", line 170, in _inform_init\n",
      "    svc_iface._svc_inform_init(settings=settings, run_id=run_id)\n",
      "  File \"/opt/conda/lib/python3.8/site-packages/wandb/sdk/service/service_sock.py\", line 38, in _svc_inform_init\n",
      "    self._sock_client.send(inform_init=inform_init)\n",
      "  File \"/opt/conda/lib/python3.8/site-packages/wandb/sdk/lib/sock_client.py\", line 211, in send\n",
      "    self.send_server_request(server_req)\n",
      "  File \"/opt/conda/lib/python3.8/site-packages/wandb/sdk/lib/sock_client.py\", line 155, in send_server_request\n",
      "    self._send_message(msg)\n",
      "  File \"/opt/conda/lib/python3.8/site-packages/wandb/sdk/lib/sock_client.py\", line 152, in _send_message\n",
      "    self._sendall_with_error_handle(header + data)\n",
      "  File \"/opt/conda/lib/python3.8/site-packages/wandb/sdk/lib/sock_client.py\", line 130, in _sendall_with_error_handle\n",
      "    sent = self._sock.send(data)\n",
      "BrokenPipeError: [Errno 32] Broken pipe\n",
      "\u001b[34m\u001b[1mwandb\u001b[0m: \u001b[32m\u001b[41mERROR\u001b[0m Abnormal program exit\n"
     ]
    },
    {
     "ename": "Exception",
     "evalue": "problem",
     "output_type": "error",
     "traceback": [
      "\u001b[0;31m---------------------------------------------------------------------------\u001b[0m",
      "\u001b[0;31mBrokenPipeError\u001b[0m                           Traceback (most recent call last)",
      "File \u001b[0;32m/opt/conda/lib/python3.8/site-packages/wandb/sdk/wandb_init.py:1078\u001b[0m, in \u001b[0;36minit\u001b[0;34m(job_type, dir, config, project, entity, reinit, tags, group, name, notes, magic, config_exclude_keys, config_include_keys, anonymous, mode, allow_val_change, resume, force, tensorboard, sync_tensorboard, monitor_gym, save_code, id, settings)\u001b[0m\n\u001b[1;32m   1077\u001b[0m \u001b[39mtry\u001b[39;00m:\n\u001b[0;32m-> 1078\u001b[0m     run \u001b[39m=\u001b[39m wi\u001b[39m.\u001b[39;49minit()\n\u001b[1;32m   1079\u001b[0m     except_exit \u001b[39m=\u001b[39m wi\u001b[39m.\u001b[39msettings\u001b[39m.\u001b[39m_except_exit\n",
      "File \u001b[0;32m/opt/conda/lib/python3.8/site-packages/wandb/sdk/wandb_init.py:574\u001b[0m, in \u001b[0;36m_WandbInit.init\u001b[0;34m(self)\u001b[0m\n\u001b[1;32m    573\u001b[0m     logger\u001b[39m.\u001b[39minfo(\u001b[39m\"\u001b[39m\u001b[39msetting up manager\u001b[39m\u001b[39m\"\u001b[39m)\n\u001b[0;32m--> 574\u001b[0m     manager\u001b[39m.\u001b[39;49m_inform_init(settings\u001b[39m=\u001b[39;49m\u001b[39mself\u001b[39;49m\u001b[39m.\u001b[39;49msettings, run_id\u001b[39m=\u001b[39;49m\u001b[39mself\u001b[39;49m\u001b[39m.\u001b[39;49msettings\u001b[39m.\u001b[39;49mrun_id)\n\u001b[1;32m    576\u001b[0m mailbox \u001b[39m=\u001b[39m Mailbox()\n",
      "File \u001b[0;32m/opt/conda/lib/python3.8/site-packages/wandb/sdk/wandb_manager.py:170\u001b[0m, in \u001b[0;36m_Manager._inform_init\u001b[0;34m(self, settings, run_id)\u001b[0m\n\u001b[1;32m    169\u001b[0m svc_iface \u001b[39m=\u001b[39m \u001b[39mself\u001b[39m\u001b[39m.\u001b[39m_get_service_interface()\n\u001b[0;32m--> 170\u001b[0m svc_iface\u001b[39m.\u001b[39;49m_svc_inform_init(settings\u001b[39m=\u001b[39;49msettings, run_id\u001b[39m=\u001b[39;49mrun_id)\n",
      "File \u001b[0;32m/opt/conda/lib/python3.8/site-packages/wandb/sdk/service/service_sock.py:38\u001b[0m, in \u001b[0;36mServiceSockInterface._svc_inform_init\u001b[0;34m(self, settings, run_id)\u001b[0m\n\u001b[1;32m     37\u001b[0m \u001b[39massert\u001b[39;00m \u001b[39mself\u001b[39m\u001b[39m.\u001b[39m_sock_client\n\u001b[0;32m---> 38\u001b[0m \u001b[39mself\u001b[39;49m\u001b[39m.\u001b[39;49m_sock_client\u001b[39m.\u001b[39;49msend(inform_init\u001b[39m=\u001b[39;49minform_init)\n",
      "File \u001b[0;32m/opt/conda/lib/python3.8/site-packages/wandb/sdk/lib/sock_client.py:211\u001b[0m, in \u001b[0;36mSockClient.send\u001b[0;34m(self, inform_init, inform_start, inform_attach, inform_finish, inform_teardown)\u001b[0m\n\u001b[1;32m    210\u001b[0m     \u001b[39mraise\u001b[39;00m \u001b[39mException\u001b[39;00m(\u001b[39m\"\u001b[39m\u001b[39munmatched\u001b[39m\u001b[39m\"\u001b[39m)\n\u001b[0;32m--> 211\u001b[0m \u001b[39mself\u001b[39;49m\u001b[39m.\u001b[39;49msend_server_request(server_req)\n",
      "File \u001b[0;32m/opt/conda/lib/python3.8/site-packages/wandb/sdk/lib/sock_client.py:155\u001b[0m, in \u001b[0;36mSockClient.send_server_request\u001b[0;34m(self, msg)\u001b[0m\n\u001b[1;32m    154\u001b[0m \u001b[39mdef\u001b[39;00m \u001b[39msend_server_request\u001b[39m(\u001b[39mself\u001b[39m, msg: Any) \u001b[39m-\u001b[39m\u001b[39m>\u001b[39m \u001b[39mNone\u001b[39;00m:\n\u001b[0;32m--> 155\u001b[0m     \u001b[39mself\u001b[39;49m\u001b[39m.\u001b[39;49m_send_message(msg)\n",
      "File \u001b[0;32m/opt/conda/lib/python3.8/site-packages/wandb/sdk/lib/sock_client.py:152\u001b[0m, in \u001b[0;36mSockClient._send_message\u001b[0;34m(self, msg)\u001b[0m\n\u001b[1;32m    151\u001b[0m \u001b[39mwith\u001b[39;00m \u001b[39mself\u001b[39m\u001b[39m.\u001b[39m_lock:\n\u001b[0;32m--> 152\u001b[0m     \u001b[39mself\u001b[39;49m\u001b[39m.\u001b[39;49m_sendall_with_error_handle(header \u001b[39m+\u001b[39;49m data)\n",
      "File \u001b[0;32m/opt/conda/lib/python3.8/site-packages/wandb/sdk/lib/sock_client.py:130\u001b[0m, in \u001b[0;36mSockClient._sendall_with_error_handle\u001b[0;34m(self, data)\u001b[0m\n\u001b[1;32m    129\u001b[0m \u001b[39mtry\u001b[39;00m:\n\u001b[0;32m--> 130\u001b[0m     sent \u001b[39m=\u001b[39m \u001b[39mself\u001b[39;49m\u001b[39m.\u001b[39;49m_sock\u001b[39m.\u001b[39;49msend(data)\n\u001b[1;32m    131\u001b[0m     \u001b[39m# sent equal to 0 indicates a closed socket\u001b[39;00m\n",
      "\u001b[0;31mBrokenPipeError\u001b[0m: [Errno 32] Broken pipe",
      "\nThe above exception was the direct cause of the following exception:\n",
      "\u001b[0;31mException\u001b[0m                                 Traceback (most recent call last)",
      "Cell \u001b[0;32mIn [58], line 1\u001b[0m\n\u001b[0;32m----> 1\u001b[0m wandb\u001b[39m.\u001b[39;49minit(project\u001b[39m=\u001b[39;49m\u001b[39m\"\u001b[39;49m\u001b[39msweep_tmp\u001b[39;49m\u001b[39m\"\u001b[39;49m,\n\u001b[1;32m      2\u001b[0m         config\u001b[39m=\u001b[39;49mconfig)\n\u001b[1;32m      3\u001b[0m wandb\u001b[39m.\u001b[39mconfig\u001b[39m.\u001b[39memb_dim\n",
      "File \u001b[0;32m/opt/conda/lib/python3.8/site-packages/wandb/sdk/wandb_init.py:1116\u001b[0m, in \u001b[0;36minit\u001b[0;34m(job_type, dir, config, project, entity, reinit, tags, group, name, notes, magic, config_exclude_keys, config_include_keys, anonymous, mode, allow_val_change, resume, force, tensorboard, sync_tensorboard, monitor_gym, save_code, id, settings)\u001b[0m\n\u001b[1;32m   1114\u001b[0m         \u001b[39mif\u001b[39;00m except_exit:\n\u001b[1;32m   1115\u001b[0m             os\u001b[39m.\u001b[39m_exit(\u001b[39m-\u001b[39m\u001b[39m1\u001b[39m)\n\u001b[0;32m-> 1116\u001b[0m         \u001b[39mraise\u001b[39;00m \u001b[39mException\u001b[39;00m(\u001b[39m\"\u001b[39m\u001b[39mproblem\u001b[39m\u001b[39m\"\u001b[39m) \u001b[39mfrom\u001b[39;00m \u001b[39merror_seen\u001b[39;00m\n\u001b[1;32m   1117\u001b[0m \u001b[39mreturn\u001b[39;00m run\n",
      "\u001b[0;31mException\u001b[0m: problem"
     ]
    }
   ],
   "source": [
    "wandb.init(project=\"sweep_tmp\",\n",
    "        config=config)\n",
    "wandb.config.emb_dim\n",
    "        "
   ]
  },
  {
   "cell_type": "code",
   "execution_count": null,
   "metadata": {},
   "outputs": [
    {
     "ename": "Error",
     "evalue": "You must call wandb.init() before wandb.config.emb_dim",
     "output_type": "error",
     "traceback": [
      "\u001b[0;31m---------------------------------------------------------------------------\u001b[0m",
      "\u001b[0;31mError\u001b[0m                                     Traceback (most recent call last)",
      "Cell \u001b[0;32mIn [28], line 1\u001b[0m\n\u001b[0;32m----> 1\u001b[0m wandb\u001b[39m.\u001b[39;49mconfig\u001b[39m.\u001b[39;49memb_dim\n\u001b[1;32m      2\u001b[0m args\u001b[39m.\u001b[39mEPOCHS \u001b[39m=\u001b[39m \u001b[39m1\u001b[39m\n",
      "File \u001b[0;32m/opt/conda/lib/python3.8/site-packages/wandb/sdk/lib/preinit.py:27\u001b[0m, in \u001b[0;36mPreInitObject.__getattr__\u001b[0;34m(self, key)\u001b[0m\n\u001b[1;32m     25\u001b[0m \u001b[39mdef\u001b[39;00m \u001b[39m__getattr__\u001b[39m(\u001b[39mself\u001b[39m, key: \u001b[39mstr\u001b[39m) \u001b[39m-\u001b[39m\u001b[39m>\u001b[39m Any:\n\u001b[1;32m     26\u001b[0m     \u001b[39mif\u001b[39;00m \u001b[39mnot\u001b[39;00m key\u001b[39m.\u001b[39mstartswith(\u001b[39m\"\u001b[39m\u001b[39m_\u001b[39m\u001b[39m\"\u001b[39m):\n\u001b[0;32m---> 27\u001b[0m         \u001b[39mraise\u001b[39;00m wandb\u001b[39m.\u001b[39mError(\u001b[39mf\u001b[39m\u001b[39m\"\u001b[39m\u001b[39mYou must call wandb.init() before \u001b[39m\u001b[39m{\u001b[39;00m\u001b[39mself\u001b[39m\u001b[39m.\u001b[39m_name\u001b[39m}\u001b[39;00m\u001b[39m.\u001b[39m\u001b[39m{\u001b[39;00mkey\u001b[39m}\u001b[39;00m\u001b[39m\"\u001b[39m)\n\u001b[1;32m     28\u001b[0m     \u001b[39melse\u001b[39;00m:\n\u001b[1;32m     29\u001b[0m         \u001b[39mraise\u001b[39;00m \u001b[39mAttributeError\u001b[39;00m()\n",
      "\u001b[0;31mError\u001b[0m: You must call wandb.init() before wandb.config.emb_dim"
     ]
    }
   ],
   "source": [
    "wandb.config.emb_dim\n",
    "args.EPOCHS = 1"
   ]
  },
  {
   "cell_type": "code",
   "execution_count": null,
   "metadata": {},
   "outputs": [
    {
     "name": "stdout",
     "output_type": "stream",
     "text": [
      "Create sweep with ID: jrpchz8d\n",
      "Sweep URL: https://wandb.ai/boostcamp_l1_recsys05/seongjae_exp_sweep/sweeps/jrpchz8d\n"
     ]
    },
    {
     "data": {
      "text/html": [
       "Changes to your `wandb` environment variables will be ignored because your `wandb` session has already started. For more information on how to modify your settings with `wandb.init()` arguments, please refer to <a href=\"https://wandb.me/wandb-init\" target=\"_blank\">the W&B docs</a>."
      ],
      "text/plain": [
       "<IPython.core.display.HTML object>"
      ]
     },
     "metadata": {},
     "output_type": "display_data"
    },
    {
     "name": "stdout",
     "output_type": "stream",
     "text": [
      "Problem at: /tmp/ipykernel_74153/2099338128.py 3 sweep\n"
     ]
    },
    {
     "name": "stderr",
     "output_type": "stream",
     "text": [
      "Traceback (most recent call last):\n",
      "  File \"/opt/conda/lib/python3.8/site-packages/wandb/sdk/wandb_init.py\", line 1078, in init\n",
      "    run = wi.init()\n",
      "  File \"/opt/conda/lib/python3.8/site-packages/wandb/sdk/wandb_init.py\", line 574, in init\n",
      "    manager._inform_init(settings=self.settings, run_id=self.settings.run_id)\n",
      "  File \"/opt/conda/lib/python3.8/site-packages/wandb/sdk/wandb_manager.py\", line 170, in _inform_init\n",
      "    svc_iface._svc_inform_init(settings=settings, run_id=run_id)\n",
      "  File \"/opt/conda/lib/python3.8/site-packages/wandb/sdk/service/service_sock.py\", line 38, in _svc_inform_init\n",
      "    self._sock_client.send(inform_init=inform_init)\n",
      "  File \"/opt/conda/lib/python3.8/site-packages/wandb/sdk/lib/sock_client.py\", line 211, in send\n",
      "    self.send_server_request(server_req)\n",
      "  File \"/opt/conda/lib/python3.8/site-packages/wandb/sdk/lib/sock_client.py\", line 155, in send_server_request\n",
      "    self._send_message(msg)\n",
      "  File \"/opt/conda/lib/python3.8/site-packages/wandb/sdk/lib/sock_client.py\", line 152, in _send_message\n",
      "    self._sendall_with_error_handle(header + data)\n",
      "  File \"/opt/conda/lib/python3.8/site-packages/wandb/sdk/lib/sock_client.py\", line 130, in _sendall_with_error_handle\n",
      "    sent = self._sock.send(data)\n",
      "BrokenPipeError: [Errno 32] Broken pipe\n",
      "\u001b[34m\u001b[1mwandb\u001b[0m: \u001b[32m\u001b[41mERROR\u001b[0m Abnormal program exit\n"
     ]
    },
    {
     "ename": "Exception",
     "evalue": "problem",
     "output_type": "error",
     "traceback": [
      "\u001b[0;31m---------------------------------------------------------------------------\u001b[0m",
      "\u001b[0;31mBrokenPipeError\u001b[0m                           Traceback (most recent call last)",
      "File \u001b[0;32m/opt/conda/lib/python3.8/site-packages/wandb/sdk/wandb_init.py:1078\u001b[0m, in \u001b[0;36minit\u001b[0;34m(job_type, dir, config, project, entity, reinit, tags, group, name, notes, magic, config_exclude_keys, config_include_keys, anonymous, mode, allow_val_change, resume, force, tensorboard, sync_tensorboard, monitor_gym, save_code, id, settings)\u001b[0m\n\u001b[1;32m   1077\u001b[0m \u001b[39mtry\u001b[39;00m:\n\u001b[0;32m-> 1078\u001b[0m     run \u001b[39m=\u001b[39m wi\u001b[39m.\u001b[39;49minit()\n\u001b[1;32m   1079\u001b[0m     except_exit \u001b[39m=\u001b[39m wi\u001b[39m.\u001b[39msettings\u001b[39m.\u001b[39m_except_exit\n",
      "File \u001b[0;32m/opt/conda/lib/python3.8/site-packages/wandb/sdk/wandb_init.py:574\u001b[0m, in \u001b[0;36m_WandbInit.init\u001b[0;34m(self)\u001b[0m\n\u001b[1;32m    573\u001b[0m     logger\u001b[39m.\u001b[39minfo(\u001b[39m\"\u001b[39m\u001b[39msetting up manager\u001b[39m\u001b[39m\"\u001b[39m)\n\u001b[0;32m--> 574\u001b[0m     manager\u001b[39m.\u001b[39;49m_inform_init(settings\u001b[39m=\u001b[39;49m\u001b[39mself\u001b[39;49m\u001b[39m.\u001b[39;49msettings, run_id\u001b[39m=\u001b[39;49m\u001b[39mself\u001b[39;49m\u001b[39m.\u001b[39;49msettings\u001b[39m.\u001b[39;49mrun_id)\n\u001b[1;32m    576\u001b[0m mailbox \u001b[39m=\u001b[39m Mailbox()\n",
      "File \u001b[0;32m/opt/conda/lib/python3.8/site-packages/wandb/sdk/wandb_manager.py:170\u001b[0m, in \u001b[0;36m_Manager._inform_init\u001b[0;34m(self, settings, run_id)\u001b[0m\n\u001b[1;32m    169\u001b[0m svc_iface \u001b[39m=\u001b[39m \u001b[39mself\u001b[39m\u001b[39m.\u001b[39m_get_service_interface()\n\u001b[0;32m--> 170\u001b[0m svc_iface\u001b[39m.\u001b[39;49m_svc_inform_init(settings\u001b[39m=\u001b[39;49msettings, run_id\u001b[39m=\u001b[39;49mrun_id)\n",
      "File \u001b[0;32m/opt/conda/lib/python3.8/site-packages/wandb/sdk/service/service_sock.py:38\u001b[0m, in \u001b[0;36mServiceSockInterface._svc_inform_init\u001b[0;34m(self, settings, run_id)\u001b[0m\n\u001b[1;32m     37\u001b[0m \u001b[39massert\u001b[39;00m \u001b[39mself\u001b[39m\u001b[39m.\u001b[39m_sock_client\n\u001b[0;32m---> 38\u001b[0m \u001b[39mself\u001b[39;49m\u001b[39m.\u001b[39;49m_sock_client\u001b[39m.\u001b[39;49msend(inform_init\u001b[39m=\u001b[39;49minform_init)\n",
      "File \u001b[0;32m/opt/conda/lib/python3.8/site-packages/wandb/sdk/lib/sock_client.py:211\u001b[0m, in \u001b[0;36mSockClient.send\u001b[0;34m(self, inform_init, inform_start, inform_attach, inform_finish, inform_teardown)\u001b[0m\n\u001b[1;32m    210\u001b[0m     \u001b[39mraise\u001b[39;00m \u001b[39mException\u001b[39;00m(\u001b[39m\"\u001b[39m\u001b[39munmatched\u001b[39m\u001b[39m\"\u001b[39m)\n\u001b[0;32m--> 211\u001b[0m \u001b[39mself\u001b[39;49m\u001b[39m.\u001b[39;49msend_server_request(server_req)\n",
      "File \u001b[0;32m/opt/conda/lib/python3.8/site-packages/wandb/sdk/lib/sock_client.py:155\u001b[0m, in \u001b[0;36mSockClient.send_server_request\u001b[0;34m(self, msg)\u001b[0m\n\u001b[1;32m    154\u001b[0m \u001b[39mdef\u001b[39;00m \u001b[39msend_server_request\u001b[39m(\u001b[39mself\u001b[39m, msg: Any) \u001b[39m-\u001b[39m\u001b[39m>\u001b[39m \u001b[39mNone\u001b[39;00m:\n\u001b[0;32m--> 155\u001b[0m     \u001b[39mself\u001b[39;49m\u001b[39m.\u001b[39;49m_send_message(msg)\n",
      "File \u001b[0;32m/opt/conda/lib/python3.8/site-packages/wandb/sdk/lib/sock_client.py:152\u001b[0m, in \u001b[0;36mSockClient._send_message\u001b[0;34m(self, msg)\u001b[0m\n\u001b[1;32m    151\u001b[0m \u001b[39mwith\u001b[39;00m \u001b[39mself\u001b[39m\u001b[39m.\u001b[39m_lock:\n\u001b[0;32m--> 152\u001b[0m     \u001b[39mself\u001b[39;49m\u001b[39m.\u001b[39;49m_sendall_with_error_handle(header \u001b[39m+\u001b[39;49m data)\n",
      "File \u001b[0;32m/opt/conda/lib/python3.8/site-packages/wandb/sdk/lib/sock_client.py:130\u001b[0m, in \u001b[0;36mSockClient._sendall_with_error_handle\u001b[0;34m(self, data)\u001b[0m\n\u001b[1;32m    129\u001b[0m \u001b[39mtry\u001b[39;00m:\n\u001b[0;32m--> 130\u001b[0m     sent \u001b[39m=\u001b[39m \u001b[39mself\u001b[39;49m\u001b[39m.\u001b[39;49m_sock\u001b[39m.\u001b[39;49msend(data)\n\u001b[1;32m    131\u001b[0m     \u001b[39m# sent equal to 0 indicates a closed socket\u001b[39;00m\n",
      "\u001b[0;31mBrokenPipeError\u001b[0m: [Errno 32] Broken pipe",
      "\nThe above exception was the direct cause of the following exception:\n",
      "\u001b[0;31mException\u001b[0m                                 Traceback (most recent call last)",
      "Cell \u001b[0;32mIn [33], line 2\u001b[0m\n\u001b[1;32m      1\u001b[0m sweep_id \u001b[39m=\u001b[39m wandb\u001b[39m.\u001b[39msweep(sweep\u001b[39m=\u001b[39msweep_configuration,project\u001b[39m=\u001b[39m\u001b[39m'\u001b[39m\u001b[39mseongjae_exp_sweep\u001b[39m\u001b[39m'\u001b[39m)\n\u001b[0;32m----> 2\u001b[0m wandb\u001b[39m.\u001b[39magent(sweep_id, function\u001b[39m=\u001b[39msweep(args,data),count \u001b[39m=\u001b[39m\u001b[39m2\u001b[39m)\n",
      "Cell \u001b[0;32mIn [27], line 3\u001b[0m, in \u001b[0;36msweep\u001b[0;34m(args, data)\u001b[0m\n\u001b[1;32m      1\u001b[0m \u001b[39mdef\u001b[39;00m \u001b[39msweep\u001b[39m(args, data):\n\u001b[1;32m      2\u001b[0m     \u001b[39m######################## Model\u001b[39;00m\n\u001b[0;32m----> 3\u001b[0m     wandb\u001b[39m.\u001b[39;49minit(project\u001b[39m=\u001b[39;49m\u001b[39m\"\u001b[39;49m\u001b[39mseongjae_exp_sweep\u001b[39;49m\u001b[39m\"\u001b[39;49m)\n\u001b[1;32m      4\u001b[0m     \u001b[39mprint\u001b[39m(\u001b[39mf\u001b[39m\u001b[39m'\u001b[39m\u001b[39m--------------- INIT \u001b[39m\u001b[39m{\u001b[39;00margs\u001b[39m.\u001b[39mMODEL\u001b[39m}\u001b[39;00m\u001b[39m ---------------\u001b[39m\u001b[39m'\u001b[39m)\n\u001b[1;32m      5\u001b[0m     \u001b[39mif\u001b[39;00m args\u001b[39m.\u001b[39mMODEL\u001b[39m==\u001b[39m\u001b[39m'\u001b[39m\u001b[39mFM\u001b[39m\u001b[39m'\u001b[39m:\n",
      "File \u001b[0;32m/opt/conda/lib/python3.8/site-packages/wandb/sdk/wandb_init.py:1116\u001b[0m, in \u001b[0;36minit\u001b[0;34m(job_type, dir, config, project, entity, reinit, tags, group, name, notes, magic, config_exclude_keys, config_include_keys, anonymous, mode, allow_val_change, resume, force, tensorboard, sync_tensorboard, monitor_gym, save_code, id, settings)\u001b[0m\n\u001b[1;32m   1114\u001b[0m         \u001b[39mif\u001b[39;00m except_exit:\n\u001b[1;32m   1115\u001b[0m             os\u001b[39m.\u001b[39m_exit(\u001b[39m-\u001b[39m\u001b[39m1\u001b[39m)\n\u001b[0;32m-> 1116\u001b[0m         \u001b[39mraise\u001b[39;00m \u001b[39mException\u001b[39;00m(\u001b[39m\"\u001b[39m\u001b[39mproblem\u001b[39m\u001b[39m\"\u001b[39m) \u001b[39mfrom\u001b[39;00m \u001b[39merror_seen\u001b[39;00m\n\u001b[1;32m   1117\u001b[0m \u001b[39mreturn\u001b[39;00m run\n",
      "\u001b[0;31mException\u001b[0m: problem"
     ]
    }
   ],
   "source": [
    "sweep_id = wandb.sweep(sweep=sweep_configuration,project='sweep_tmp')\n",
    "wandb.agent(sweep_id, function=sweep(args,data),count =2)"
   ]
  },
  {
   "cell_type": "code",
   "execution_count": null,
   "metadata": {},
   "outputs": [],
   "source": []
  }
 ],
 "metadata": {
  "kernelspec": {
   "display_name": "Python 3.8.5 ('base')",
   "language": "python",
   "name": "python3"
  },
  "language_info": {
   "codemirror_mode": {
    "name": "ipython",
    "version": 3
   },
   "file_extension": ".py",
   "mimetype": "text/x-python",
   "name": "python",
   "nbconvert_exporter": "python",
   "pygments_lexer": "ipython3",
   "version": "3.8.5"
  },
  "orig_nbformat": 4,
  "vscode": {
   "interpreter": {
    "hash": "d4d1e4263499bec80672ea0156c357c1ee493ec2b1c70f0acce89fc37c4a6abe"
   }
  }
 },
 "nbformat": 4,
 "nbformat_minor": 2
}
